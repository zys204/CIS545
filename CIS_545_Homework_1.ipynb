{
  "nbformat": 4,
  "nbformat_minor": 0,
  "metadata": {
    "colab": {
      "name": "CIS 545 Homework 1.ipynb",
      "provenance": [],
      "collapsed_sections": [],
      "include_colab_link": true
    },
    "kernelspec": {
      "name": "python3",
      "display_name": "Python 3"
    }
  },
  "cells": [
    {
      "cell_type": "markdown",
      "metadata": {
        "id": "view-in-github",
        "colab_type": "text"
      },
      "source": [
        "<a href=\"https://colab.research.google.com/github/zys204/CIS545/blob/main/CIS_545_Homework_1.ipynb\" target=\"_parent\"><img src=\"https://colab.research.google.com/assets/colab-badge.svg\" alt=\"Open In Colab\"/></a>"
      ]
    },
    {
      "cell_type": "markdown",
      "metadata": {
        "id": "upCKAd8JB6bO"
      },
      "source": [
        "#CIS 545 Homework 1: Data Wrangling and Cleaning\n",
        "\n",
        "\n",
        "Hello future data scientists and welcome to CIS 545! In this homework, you will familiarize yourself with Pandas 🐼! The cutest animal and one of the essential libraries for Data Science. This homework is focused on one of the most important tasks in Data Science, preparing datasets so that they can be analyzed, plotted, used for machine learning models, etc...\n",
        "\n",
        "This homework will be broken into analyzing two datasets across five sections (although section 1 has the most sub-parts)!\n",
        "\n",
        "1. Working with New York flu and hospital acquired infection data\n",
        "\n",
        "2. Working with Airbnb and Uber Data and on a merged/joined version of the Airbnb and Uber datasets (More on this later...)\n",
        "\n",
        "**Note: Before starting, you must click on the \"Copy To Drive\" option in the top bar. This is the master notebook so <u>you will not be able to save your changes without copying it </u>! Once you click on that, make sure you are working on that version of the notebook so that your work is saved** \n",
        "\n",
        "Run the following two cells to setup the notebook"
      ]
    },
    {
      "cell_type": "code",
      "metadata": {
        "id": "N5aBcHiKUM6_",
        "colab": {
          "base_uri": "https://localhost:8080/"
        },
        "outputId": "e005af53-c6d4-4f2b-fe79-bc2b311da114"
      },
      "source": [
        "!pip3 install penngrader"
      ],
      "execution_count": null,
      "outputs": [
        {
          "output_type": "stream",
          "name": "stdout",
          "text": [
            "Requirement already satisfied: penngrader in /usr/local/lib/python3.7/dist-packages (0.4)\n"
          ]
        }
      ]
    },
    {
      "cell_type": "code",
      "metadata": {
        "id": "zfJ3v4LwtGpc"
      },
      "source": [
        "%%capture\n",
        "!pip3 install py_stringsimjoin\n",
        "!pip install python-Levenshtein\n",
        "\n",
        "from penngrader.grader import *\n",
        "\n",
        "# Import neccessary libraries\n",
        "!pip install geocoder\n",
        "import pandas as pd\n",
        "import numpy as np\n",
        "import seaborn as sns\n",
        "from string import ascii_letters\n",
        "import matplotlib.pyplot as plt\n",
        "from datetime import datetime\n",
        "import time\n",
        "import geocoder\n",
        "import py_stringsimjoin as ssj\n",
        "import py_stringmatching as sm\n",
        "from Levenshtein import distance\n",
        "from difflib import SequenceMatcher\n",
        "import requests\n",
        "from lxml import html"
      ],
      "execution_count": null,
      "outputs": []
    },
    {
      "cell_type": "code",
      "metadata": {
        "id": "Mj6jiQGltIJ2",
        "colab": {
          "base_uri": "https://localhost:8080/"
        },
        "outputId": "a27d7e3c-cdc4-46f0-ded7-9c85f5ee378d"
      },
      "source": [
        "!wget -nc https://storage.googleapis.com/penn-cis545/NY_Hospital_Acquired_Infections__Beginning_2008.csv\n",
        "!wget -nc https://storage.googleapis.com/penn-cis545/UPDATED_2_zillow_df.csv\n",
        "!wget -nc https://storage.googleapis.com/penn-cis545/UPDATED_2_airbnb_df.csv\n",
        "!wget -nc https://storage.googleapis.com/penn-cis545/UPDATED_3_NY_Flu_Confirmed_Cases_By_County__Beginning_2009_10_Season.csv"
      ],
      "execution_count": null,
      "outputs": [
        {
          "output_type": "stream",
          "name": "stdout",
          "text": [
            "File ‘NY_Hospital_Acquired_Infections__Beginning_2008.csv’ already there; not retrieving.\n",
            "\n",
            "File ‘UPDATED_2_zillow_df.csv’ already there; not retrieving.\n",
            "\n",
            "File ‘UPDATED_2_airbnb_df.csv’ already there; not retrieving.\n",
            "\n",
            "File ‘UPDATED_3_NY_Flu_Confirmed_Cases_By_County__Beginning_2009_10_Season.csv’ already there; not retrieving.\n",
            "\n"
          ]
        }
      ]
    },
    {
      "cell_type": "markdown",
      "metadata": {
        "id": "2K3-m4JuNh9X"
      },
      "source": [
        "#What is Pandas?\n",
        "\n",
        "<div class = \"row\">\n",
        "<div class=\"column\">\n",
        "Apart from animals, Pandas is a Python library to aid with data manipulation/analysis. It is built with support from Numpy. Numpy is another Python package/library that provides efficient calculations for matricies and other math problems.\n",
        "</div><div class=\"column\">\n",
        "<p class=\"d-flex\" align = \"center\">\n",
        "<img src = \"https://thehill.com/sites/default/files/styles/article_full/public/panda_getty.jpg?itok=4ce_5sip\" height= \"200\" align =\"center\"/>\n",
        "<img src = \"https://cff2.earth.com/uploads/2016/09/08101343/giant-panda-bear_1big_stock1.jpg\" height= \"200\" align =\"center\"/>\n",
        "</p>\n",
        "</div>\n",
        "</div>\n",
        "\n",
        "\n"
      ]
    },
    {
      "cell_type": "markdown",
      "metadata": {
        "id": "HvihpkXCO-zo"
      },
      "source": [
        "Let's also get familiarized with the **PennGrader**. It was developed specifically for 545 by a previous TA, Leonardo Murri. \n",
        "<br>\n",
        "\n",
        "PennGrader was developed to provide students with instant feedback on their answer. You can submit your answer and know whether it's right or wrong instantly. We then record your most recent answer in our backend database. Let's try it out! Fill in the cell below with your 8-digit Penn ID and then run the following cell to initialize the grader."
      ]
    },
    {
      "cell_type": "code",
      "metadata": {
        "id": "IEA0o2BOEBZS"
      },
      "source": [
        "# PLEASE ENSURE YOUR PENN-ID IS ENTERED CORRECTLY. IF NOT, THE AUTOGRADER WON'T KNOW WHO \n",
        "# TO ASSIGN POINTS TO YOU IN OUR BACKEND\n",
        "STUDENT_ID = 49695531 # YOUR PENN-ID GOES HERE AS AN INTEGER #"
      ],
      "execution_count": null,
      "outputs": []
    },
    {
      "cell_type": "code",
      "metadata": {
        "id": "vAsLYJGotKbO",
        "colab": {
          "base_uri": "https://localhost:8080/"
        },
        "outputId": "2d0ab506-4ace-49e2-af5e-96dc155087f5"
      },
      "source": [
        "grader = PennGrader(homework_id = 'CIS545_MCITO_Fall_2021_HW1', student_id = STUDENT_ID)"
      ],
      "execution_count": null,
      "outputs": [
        {
          "output_type": "stream",
          "name": "stdout",
          "text": [
            "PennGrader initialized with Student ID: 49695531\n",
            "\n",
            "Make sure this correct or we will not be able to store your grade\n"
          ]
        }
      ]
    },
    {
      "cell_type": "markdown",
      "metadata": {
        "id": "_MEl5f0lTdpJ"
      },
      "source": [
        "Pandas (the animal) are lazy. Their days are made up of eating and sleeping. Just like mine. Let's run a cell just to make sure PennGrader works\n",
        "\n",
        "#### **TODO: PennGrader Check**\n",
        "- Change `favorite_activity` to whichever panda \"activity\" you prefer (2 point)\n",
        "\n",
        "<br>\n",
        "\n",
        "**Note**: We'll use cells like these \"TODO\" above to indicate what is important to have in each section of the notebook. Some general guidelines:\n",
        "\n",
        "- You don't have to do all of these in one cell/step; we're just labeling them for each section which might have smaller sub-sections (ex: look at how 1.2 is set up) for your reference\n",
        "- Make sure to read these carefully and do everything that is asked\n",
        "- Make sure to run all the PennGrader test cells; if we forgot anything, please let us know ASAP on Piazza so that we can update the Markdown cells here"
      ]
    },
    {
      "cell_type": "code",
      "metadata": {
        "id": "qxt9isGeET24"
      },
      "source": [
        "# In this cell, put which panda activity you prefer in lowercase(eating or sleeping)\n",
        "# Input activity name in all lowercase\n",
        "favorite_activity = \"sleeping\""
      ],
      "execution_count": null,
      "outputs": []
    },
    {
      "cell_type": "code",
      "metadata": {
        "id": "npkGwi4rtL76",
        "colab": {
          "base_uri": "https://localhost:8080/"
        },
        "outputId": "a6197e5f-89d8-4541-d493-9d7422a9e307"
      },
      "source": [
        "# Run this cell to submit to PennGrader!\n",
        "\n",
        "# [CIS 545 PennGrader Cell] - 2 point\n",
        "grader.grade(test_case_id = 'panda_test', answer = favorite_activity)"
      ],
      "execution_count": null,
      "outputs": [
        {
          "output_type": "stream",
          "name": "stdout",
          "text": [
            "Correct! You earned 2/2 points. You are a star!\n",
            "\n",
            "Your submission has been successfully recorded in the gradebook.\n"
          ]
        }
      ]
    },
    {
      "cell_type": "markdown",
      "metadata": {
        "id": "zymOmddn6OPs"
      },
      "source": [
        "You just had your first experience with the Penn Grader! For the future questions, once you have completed a question, you can submit your answer to the Penn Grader for immediate feedback. Awesome, right?\n",
        "\n",
        "We will use scores from Penn Grader to determine your grade. You will still need to submit your notebook so we can check for cheating and plagarism. Do not cheat. \n",
        "\n",
        "**Note:** If you run Penn Grader after the due date for any question, your assignment will be marked late, even if you already had full points for the question before the deadline. To remedy this, if you're going to run your notebook after the deadline, either do not run the grading cells, or reinitialize the grader with an empty or clearly fake ID such as <code>999999999999</code> (please use 10+ digits to be clearly a fake <code>STUDENT_ID</code>)"
      ]
    },
    {
      "cell_type": "markdown",
      "metadata": {
        "id": "L5Ay_hRPgLDV"
      },
      "source": [
        "#Adding our data so that our code can find it\n",
        "\n",
        "We can't be data scientist without data! We provided code for you to download the data (the \"wget\" cell from earlier). If you go to the view on the left and click files, you should see something similar to this image\n",
        "\n",
        "![Screen Shot 2020-09-12 at 11.03.39 PM.png](data:image/png;base64,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)"
      ]
    },
    {
      "cell_type": "markdown",
      "metadata": {
        "id": "bt_SIy9kUbAC"
      },
      "source": [
        "#Part 1: Working with New York Influenza and Hospital-Acquired Infection Data\n",
        "\n",
        "In this part of the homework we will be working with two different healthcare focused datasets! \n",
        "\n",
        "The New York Influenza dataset contains data about flu cases in New York. The New York Hospital-Acquired Infection dataset contains information pertaining to infections patients acquired while in different hospitals across New York state.\n",
        "\n",
        "Let's first get both of our datasets loaded into two Pandas Dataframes, one for each of the datasets. Use pandas' <code>read_csv</code> functionality, which you can find documentation for here:\n",
        "\n",
        "https://pandas.pydata.org/pandas-docs/stable/reference/api/pandas.read_csv.html\n",
        "\n",
        "While reading documentation is hard at first, we **strongly encourage you** to get into a good habit of it, since many times your questions will be answered directly by the documentation (ex: \"why isn't my dataframe dropping duplicates\" or \"why didn't this dataframe update\").\n",
        "\n",
        "#### **TODO: Part 1 Intro**\n",
        "- Save the Hopsital-Acquired dataframe to a variable named: <code>hospital_df</code>\n",
        "- Save the New York Influenza dataframe to a variable named: <code>flu_df</code>\n",
        "- Save the data types to `flu_df_types` (2 point)"
      ]
    },
    {
      "cell_type": "code",
      "metadata": {
        "id": "S30QL5oPIloa"
      },
      "source": [
        "# TODO: Import your two files to pandas dataframes -- make sure the dataframes are named correctly!\n",
        "\n",
        "# Replace these!\n",
        "hospital_df = pd.DataFrame([])\n",
        "hospital_df = pd.read_csv(\"/content/NY_Hospital_Acquired_Infections__Beginning_2008.csv\")\n",
        "flu_df = pd.DataFrame([])\n",
        "flu_df = pd.read_csv(\"/content/UPDATED_3_NY_Flu_Confirmed_Cases_By_County__Beginning_2009_10_Season.csv\")"
      ],
      "execution_count": null,
      "outputs": []
    },
    {
      "cell_type": "code",
      "metadata": {
        "id": "YZjip4gktNuo"
      },
      "source": [
        "# Now runs this cell to update the column names; please don't delete this!\n",
        "hospital_df.columns = [column.replace(' ', '_') for column in hospital_df.columns]\n",
        "flu_df.columns = [column.replace(' ', '_') for column in flu_df.columns]"
      ],
      "execution_count": null,
      "outputs": []
    },
    {
      "cell_type": "markdown",
      "metadata": {
        "id": "4mYmUbwXp_tC"
      },
      "source": [
        "The cell above uses list comphrension in python, if you are unfamiliar with this concept you can read more about it here: https://docs.python.org/3/tutorial/datastructures.html"
      ]
    },
    {
      "cell_type": "markdown",
      "metadata": {
        "id": "l6Jhb8PBNuf5"
      },
      "source": [
        "Let's focus on the flu_df for now. We will work with the hospital dataframe in a bit. We would like to take a look at what the flu dataframe looks like. Display the first 10 rows of the dataframe in the cell below (take a look at the documentation to find now to do this!)"
      ]
    },
    {
      "cell_type": "code",
      "metadata": {
        "id": "HL0SyrGjaENp",
        "colab": {
          "base_uri": "https://localhost:8080/"
        },
        "outputId": "3895e17e-bf88-402e-fad1-b38441e7fe89"
      },
      "source": [
        "# TODO: Display the first 10 rows of `flu_df`\n",
        "flu_rows = flu_df.head(10)\n",
        "print(flu_rows)"
      ],
      "execution_count": null,
      "outputs": [
        {
          "output_type": "stream",
          "name": "stdout",
          "text": [
            "      Season   Region    County  ... Count      County_Centroid   FIPS\n",
            "0  2010-2011      NYC  NEW YORK  ...    15  (40.7831, -73.9712)  36061\n",
            "1  2010-2011      NYC  NEW YORK  ...     0  (40.7831, -73.9712)  36061\n",
            "2  2010-2011      NYC  RICHMOND  ...     0  (40.5795, -74.1502)  36085\n",
            "3  2011-2012      NYC     KINGS  ...     0  (40.6782, -73.9442)  36047\n",
            "4  2012-2013  WESTERN    SENECA  ...     0  (42.7652, -76.8721)  36099\n",
            "5  2014-2015  WESTERN     WAYNE  ...     2   (43.202, -77.0104)  36117\n",
            "6  2014-2015      NYC  RICHMOND  ...     0  (40.5795, -74.1502)  36085\n",
            "7  2017-2018      NYC  RICHMOND  ...     0  (40.5795, -74.1502)  36085\n",
            "8  2017-2018      NYC     BRONX  ...     6  (40.8448, -73.8648)  36005\n",
            "9  2017-2018    METRO    PUTNAM  ...     8  (41.4351, -73.7949)  36079\n",
            "\n",
            "[10 rows x 8 columns]\n"
          ]
        }
      ]
    },
    {
      "cell_type": "markdown",
      "metadata": {
        "id": "8fVyS1_3Qkpd"
      },
      "source": [
        "Another thing that is often times helpful to do is inspect the types of each column in a dataframe. Output the types of the flu_df in this cell below. "
      ]
    },
    {
      "cell_type": "code",
      "metadata": {
        "id": "VLeID5-MaCJX",
        "colab": {
          "base_uri": "https://localhost:8080/"
        },
        "outputId": "fe27bd9d-d3f8-4c0a-a22c-8632585f4464"
      },
      "source": [
        "# TODO: Display the datatypes in `flu_df`\n",
        "flu_types = flu_df.dtypes\n",
        "print(flu_types)"
      ],
      "execution_count": null,
      "outputs": [
        {
          "output_type": "stream",
          "name": "stdout",
          "text": [
            "Season              object\n",
            "Region              object\n",
            "County              object\n",
            "Week_Ending_Date    object\n",
            "Disease             object\n",
            "Count                int64\n",
            "County_Centroid     object\n",
            "FIPS                 int64\n",
            "dtype: object\n"
          ]
        }
      ]
    },
    {
      "cell_type": "markdown",
      "metadata": {
        "id": "TbfN6lLBSrb_"
      },
      "source": [
        "Save the types of the the Season, Region, Count, and FIPS columns to a series and pass them into the autograder cell below."
      ]
    },
    {
      "cell_type": "code",
      "metadata": {
        "id": "eaqR1EPeSMPU"
      },
      "source": [
        "# TODO: Just a warmup to get exposed to indexing and series vs. dataframe\n",
        "flu_subset = flu_df[[\"Season\", \"Region\", \"Count\", \"FIPS\"]]\n",
        "flu_df_types = flu_subset.dtypes"
      ],
      "execution_count": null,
      "outputs": []
    },
    {
      "cell_type": "code",
      "metadata": {
        "id": "TXWHLnK7Z9XO",
        "colab": {
          "base_uri": "https://localhost:8080/"
        },
        "outputId": "84fec89f-a39e-48aa-af2d-08d808274e67"
      },
      "source": [
        "# View the output here!\n",
        "flu_df_types"
      ],
      "execution_count": null,
      "outputs": [
        {
          "output_type": "execute_result",
          "data": {
            "text/plain": [
              "Season    object\n",
              "Region    object\n",
              "Count      int64\n",
              "FIPS       int64\n",
              "dtype: object"
            ]
          },
          "metadata": {},
          "execution_count": 13
        }
      ]
    },
    {
      "cell_type": "markdown",
      "metadata": {
        "id": "zyhHFYOFYl9L"
      },
      "source": [
        "Pass series you just created into the \"answer\" parameter below (2 point)"
      ]
    },
    {
      "cell_type": "code",
      "metadata": {
        "id": "LBiGWf2kZ_E7",
        "colab": {
          "base_uri": "https://localhost:8080/"
        },
        "outputId": "515b0ca7-766b-43a1-c8d2-3bc6101c4700"
      },
      "source": [
        "# [CIS 545 PennGrader Cell] - 2 point\n",
        "grader.grade(test_case_id = 'flu_df_types', answer = flu_df_types)"
      ],
      "execution_count": null,
      "outputs": [
        {
          "output_type": "stream",
          "name": "stdout",
          "text": [
            "Correct! You earned 2/2 points. You are a star!\n",
            "\n",
            "Your submission has been successfully recorded in the gradebook.\n"
          ]
        }
      ]
    },
    {
      "cell_type": "markdown",
      "metadata": {
        "id": "FTsd4gbgXZoD"
      },
      "source": [
        "##1.1 Dropping data\n",
        "\n",
        "When you work with data, you'll have NaNs, duplicates or columns that don't give much insight into the data. There are different ways to deal with missing values (i.e. imputation, which you can read into on your own), but for now, let's drop some of these rows to clean up our data. Note that there might be multiple ways to do each step.\n",
        "\n",
        "\n",
        "Refer to the documentation if you get stuck -- it's your best friend!\n",
        "\n",
        "<br>\n",
        "\n",
        "#### **TODO: 1.1**\n",
        "\n",
        "- Drop duplicate rows\n",
        "- Drop rows that have nulls (e.g. NaN) in them\n",
        "- Drop the \"Season\" and \"FIPS\" columns. These columns aren't neccessary for the rest of the homework.\n",
        "- Drop all rows with the \"Count\" column equal to 0\n",
        "- Save the result to `flu_df_cleaned` (5 points)"
      ]
    },
    {
      "cell_type": "code",
      "metadata": {
        "id": "0tVzdxJmShku",
        "colab": {
          "base_uri": "https://localhost:8080/"
        },
        "outputId": "2999966f-9dd2-4466-d312-edff82c07679"
      },
      "source": [
        "# TODO: Drop duplicate rows\n",
        "flu_df.drop_duplicates"
      ],
      "execution_count": null,
      "outputs": [
        {
          "output_type": "execute_result",
          "data": {
            "text/plain": [
              "<bound method DataFrame.drop_duplicates of           Season            Region  ...            County_Centroid   FIPS\n",
              "0      2010-2011               NYC  ...        (40.7831, -73.9712)  36061\n",
              "1      2010-2011               NYC  ...        (40.7831, -73.9712)  36061\n",
              "2      2010-2011               NYC  ...        (40.5795, -74.1502)  36085\n",
              "3      2011-2012               NYC  ...        (40.6782, -73.9442)  36047\n",
              "4      2012-2013           WESTERN  ...        (42.7652, -76.8721)  36099\n",
              "...          ...               ...  ...                        ...    ...\n",
              "64513  2019-2020  CAPITAL DISTRICT  ...  (42.9008912, -74.4353575)  36057\n",
              "64514  2019-2020           CENTRAL  ...   (44.4881125, -75.074311)  36089\n",
              "64515  2018-2019           WESTERN  ...        (42.6431, -77.1485)  36123\n",
              "64516  2019-2020  CAPITAL DISTRICT  ...  (43.1156093, -74.4236782)  36035\n",
              "64517  2019-2020           WESTERN  ...  (42.7013627, -78.2285667)  36121\n",
              "\n",
              "[64518 rows x 8 columns]>"
            ]
          },
          "metadata": {},
          "execution_count": 15
        }
      ]
    },
    {
      "cell_type": "code",
      "metadata": {
        "id": "7n0uC--Ld-du",
        "colab": {
          "base_uri": "https://localhost:8080/"
        },
        "outputId": "e946296e-e3aa-4c82-c055-b1a3ab5728ae"
      },
      "source": [
        "# TODO: Drop rows that have any nulls (NaN) in them\n",
        "flu_df.dropna"
      ],
      "execution_count": null,
      "outputs": [
        {
          "output_type": "execute_result",
          "data": {
            "text/plain": [
              "<bound method DataFrame.dropna of           Season            Region  ...            County_Centroid   FIPS\n",
              "0      2010-2011               NYC  ...        (40.7831, -73.9712)  36061\n",
              "1      2010-2011               NYC  ...        (40.7831, -73.9712)  36061\n",
              "2      2010-2011               NYC  ...        (40.5795, -74.1502)  36085\n",
              "3      2011-2012               NYC  ...        (40.6782, -73.9442)  36047\n",
              "4      2012-2013           WESTERN  ...        (42.7652, -76.8721)  36099\n",
              "...          ...               ...  ...                        ...    ...\n",
              "64513  2019-2020  CAPITAL DISTRICT  ...  (42.9008912, -74.4353575)  36057\n",
              "64514  2019-2020           CENTRAL  ...   (44.4881125, -75.074311)  36089\n",
              "64515  2018-2019           WESTERN  ...        (42.6431, -77.1485)  36123\n",
              "64516  2019-2020  CAPITAL DISTRICT  ...  (43.1156093, -74.4236782)  36035\n",
              "64517  2019-2020           WESTERN  ...  (42.7013627, -78.2285667)  36121\n",
              "\n",
              "[64518 rows x 8 columns]>"
            ]
          },
          "metadata": {},
          "execution_count": 16
        }
      ]
    },
    {
      "cell_type": "code",
      "metadata": {
        "id": "i36_WcGYeJqW"
      },
      "source": [
        "# TODO: Drop the Season and FIPS columns\n",
        "flu_df = flu_df.drop(columns=[\"Season\", \"FIPS\"])"
      ],
      "execution_count": null,
      "outputs": []
    },
    {
      "cell_type": "code",
      "metadata": {
        "id": "lAHvDRqgd88A"
      },
      "source": [
        "# Drop all rows with \"Count\" equal to 0\n",
        "flu_df.drop(flu_df[flu_df[\"Count\"]==0].index, inplace = True)"
      ],
      "execution_count": null,
      "outputs": []
    },
    {
      "cell_type": "code",
      "metadata": {
        "id": "iZF7O2EWeLAN"
      },
      "source": [
        "flu_df_cleaned=flu_df"
      ],
      "execution_count": null,
      "outputs": []
    },
    {
      "cell_type": "markdown",
      "metadata": {
        "id": "2GwTkUYXY4sO"
      },
      "source": [
        "View your dataframe again to check if you dropped the columns and the appropriate rows properly:"
      ]
    },
    {
      "cell_type": "code",
      "metadata": {
        "id": "zQkyKhv7XlSa",
        "colab": {
          "base_uri": "https://localhost:8080/",
          "height": 424
        },
        "outputId": "a2145374-8438-4572-f58d-4de9e63d9bad"
      },
      "source": [
        "flu_df_cleaned"
      ],
      "execution_count": null,
      "outputs": [
        {
          "output_type": "execute_result",
          "data": {
            "text/html": [
              "<div>\n",
              "<style scoped>\n",
              "    .dataframe tbody tr th:only-of-type {\n",
              "        vertical-align: middle;\n",
              "    }\n",
              "\n",
              "    .dataframe tbody tr th {\n",
              "        vertical-align: top;\n",
              "    }\n",
              "\n",
              "    .dataframe thead th {\n",
              "        text-align: right;\n",
              "    }\n",
              "</style>\n",
              "<table border=\"1\" class=\"dataframe\">\n",
              "  <thead>\n",
              "    <tr style=\"text-align: right;\">\n",
              "      <th></th>\n",
              "      <th>Region</th>\n",
              "      <th>County</th>\n",
              "      <th>Week_Ending_Date</th>\n",
              "      <th>Disease</th>\n",
              "      <th>Count</th>\n",
              "      <th>County_Centroid</th>\n",
              "    </tr>\n",
              "  </thead>\n",
              "  <tbody>\n",
              "    <tr>\n",
              "      <th>0</th>\n",
              "      <td>NYC</td>\n",
              "      <td>NEW YORK</td>\n",
              "      <td>11/20/2010</td>\n",
              "      <td>INFLUENZA_A</td>\n",
              "      <td>15</td>\n",
              "      <td>(40.7831, -73.9712)</td>\n",
              "    </tr>\n",
              "    <tr>\n",
              "      <th>5</th>\n",
              "      <td>WESTERN</td>\n",
              "      <td>WAYNE</td>\n",
              "      <td>01/24/2015</td>\n",
              "      <td>INFLUENZA_B</td>\n",
              "      <td>2</td>\n",
              "      <td>(43.202, -77.0104)</td>\n",
              "    </tr>\n",
              "    <tr>\n",
              "      <th>8</th>\n",
              "      <td>NYC</td>\n",
              "      <td>BRONX</td>\n",
              "      <td>11/04/2017</td>\n",
              "      <td>INFLUENZA_A</td>\n",
              "      <td>6</td>\n",
              "      <td>(40.8448, -73.8648)</td>\n",
              "    </tr>\n",
              "    <tr>\n",
              "      <th>9</th>\n",
              "      <td>METRO</td>\n",
              "      <td>PUTNAM</td>\n",
              "      <td>12/30/2017</td>\n",
              "      <td>INFLUENZA_A</td>\n",
              "      <td>8</td>\n",
              "      <td>(41.4351, -73.7949)</td>\n",
              "    </tr>\n",
              "    <tr>\n",
              "      <th>10</th>\n",
              "      <td>CAPITAL DISTRICT</td>\n",
              "      <td>SCHENECTADY</td>\n",
              "      <td>03/31/2012</td>\n",
              "      <td>INFLUENZA_A</td>\n",
              "      <td>1</td>\n",
              "      <td>(42.8175421, -74.0435834)</td>\n",
              "    </tr>\n",
              "    <tr>\n",
              "      <th>...</th>\n",
              "      <td>...</td>\n",
              "      <td>...</td>\n",
              "      <td>...</td>\n",
              "      <td>...</td>\n",
              "      <td>...</td>\n",
              "      <td>...</td>\n",
              "    </tr>\n",
              "    <tr>\n",
              "      <th>64498</th>\n",
              "      <td>WESTERN</td>\n",
              "      <td>CHEMUNG</td>\n",
              "      <td>01/04/2020</td>\n",
              "      <td>INFLUENZA_B</td>\n",
              "      <td>34</td>\n",
              "      <td>(42.1552807, -76.7471788)</td>\n",
              "    </tr>\n",
              "    <tr>\n",
              "      <th>64504</th>\n",
              "      <td>CAPITAL DISTRICT</td>\n",
              "      <td>RENSSELAER</td>\n",
              "      <td>03/28/2020</td>\n",
              "      <td>INFLUENZA_B</td>\n",
              "      <td>3</td>\n",
              "      <td>(42.7104206, -73.5138454)</td>\n",
              "    </tr>\n",
              "    <tr>\n",
              "      <th>64509</th>\n",
              "      <td>CENTRAL</td>\n",
              "      <td>ONONDAGA</td>\n",
              "      <td>12/14/2019</td>\n",
              "      <td>INFLUENZA_A</td>\n",
              "      <td>45</td>\n",
              "      <td>(43.0065299, -76.1961167)</td>\n",
              "    </tr>\n",
              "    <tr>\n",
              "      <th>64511</th>\n",
              "      <td>CAPITAL DISTRICT</td>\n",
              "      <td>ALBANY</td>\n",
              "      <td>01/25/2020</td>\n",
              "      <td>INFLUENZA_B</td>\n",
              "      <td>51</td>\n",
              "      <td>(42.5882713, -73.9740136)</td>\n",
              "    </tr>\n",
              "    <tr>\n",
              "      <th>64513</th>\n",
              "      <td>CAPITAL DISTRICT</td>\n",
              "      <td>MONTGOMERY</td>\n",
              "      <td>12/21/2019</td>\n",
              "      <td>INFLUENZA_A</td>\n",
              "      <td>7</td>\n",
              "      <td>(42.9008912, -74.4353575)</td>\n",
              "    </tr>\n",
              "  </tbody>\n",
              "</table>\n",
              "<p>23405 rows × 6 columns</p>\n",
              "</div>"
            ],
            "text/plain": [
              "                 Region       County  ... Count            County_Centroid\n",
              "0                   NYC     NEW YORK  ...    15        (40.7831, -73.9712)\n",
              "5               WESTERN        WAYNE  ...     2         (43.202, -77.0104)\n",
              "8                   NYC        BRONX  ...     6        (40.8448, -73.8648)\n",
              "9                 METRO       PUTNAM  ...     8        (41.4351, -73.7949)\n",
              "10     CAPITAL DISTRICT  SCHENECTADY  ...     1  (42.8175421, -74.0435834)\n",
              "...                 ...          ...  ...   ...                        ...\n",
              "64498           WESTERN      CHEMUNG  ...    34  (42.1552807, -76.7471788)\n",
              "64504  CAPITAL DISTRICT   RENSSELAER  ...     3  (42.7104206, -73.5138454)\n",
              "64509           CENTRAL     ONONDAGA  ...    45  (43.0065299, -76.1961167)\n",
              "64511  CAPITAL DISTRICT       ALBANY  ...    51  (42.5882713, -73.9740136)\n",
              "64513  CAPITAL DISTRICT   MONTGOMERY  ...     7  (42.9008912, -74.4353575)\n",
              "\n",
              "[23405 rows x 6 columns]"
            ]
          },
          "metadata": {},
          "execution_count": 20
        }
      ]
    },
    {
      "cell_type": "markdown",
      "metadata": {
        "id": "dIlJxXVigr18"
      },
      "source": [
        "Pass the cleaned Flu dataframe to the following cell as the input for the \"answer\" parameter (5 points)"
      ]
    },
    {
      "cell_type": "code",
      "metadata": {
        "id": "uA3Zweh9X6ta",
        "colab": {
          "base_uri": "https://localhost:8080/"
        },
        "outputId": "a47afced-a45f-4ff3-e7e3-3213dcb5a166"
      },
      "source": [
        "# [CIS 545 PennGrader Cell] - 5 points\n",
        "grader.grade(test_case_id = 'flu_drop_test', answer = flu_df_cleaned)"
      ],
      "execution_count": null,
      "outputs": [
        {
          "output_type": "stream",
          "name": "stdout",
          "text": [
            "Correct! You earned 5/5 points. You are a star!\n",
            "\n",
            "Your submission has been successfully recorded in the gradebook.\n"
          ]
        }
      ]
    },
    {
      "cell_type": "markdown",
      "metadata": {
        "id": "xaY5kOL2ZPyK"
      },
      "source": [
        "##1.2 Extracting Month, Day, Year of Each Row in the flu_df\n",
        "\n",
        "Next, let's filter out information from the Ending Date Column. We want to add columns for Month, Day, and Year of the Ending Date. Make sure these new columns have datatypes that allow for mathematical operations.\n",
        "\n",
        "Hint: Highly recommend using the \"apply\" function\n",
        "\n",
        "#### **TODO: 1.2**\n",
        "- Extract the columns `Year`, `Month` and `Day` from the `Week_Ending_Date` column -- this is case-sensitive!\n",
        "- Convert these columns to a sensible type that would allow us to do mathematical operations on them (hint: strings probably won't be so good here)\n",
        "- Store this as `flu_df_cleaned` (5 points)\n",
        "\n",
        "- Extract columns for `Latitude` and `Longitude` appropriately and update `flu_df_cleaned` (5 points)\n",
        "\n",
        "- Compute the average week number that data was collected on and store it in `mean_week_num_collected` (5 points)"
      ]
    },
    {
      "cell_type": "code",
      "metadata": {
        "id": "GkPS2_1XmwLv",
        "colab": {
          "base_uri": "https://localhost:8080/"
        },
        "outputId": "9b2a96ce-d352-4868-b471-a1d889f2ab5c"
      },
      "source": [
        "# TODO: First, extract the Month, Day, and Year of each entry into a numeric type (see the `apply` function).\n",
        "flu_df_cleaned_dates=flu_df_cleaned[[\"Week_Ending_Date\"]]\n",
        "flu_df_cleaned_dates[\"Year\"] = flu_df_cleaned[\"Week_Ending_Date\"].str[6:10].astype(int)\n",
        "flu_df_cleaned_dates[\"Month\"] = flu_df_cleaned[\"Week_Ending_Date\"].str[:2].astype(int)\n",
        "flu_df_cleaned_dates[\"Day\"] = flu_df_cleaned[\"Week_Ending_Date\"].str[3:5].astype(int)"
      ],
      "execution_count": null,
      "outputs": [
        {
          "output_type": "stream",
          "name": "stderr",
          "text": [
            "/usr/local/lib/python3.7/dist-packages/ipykernel_launcher.py:3: SettingWithCopyWarning: \n",
            "A value is trying to be set on a copy of a slice from a DataFrame.\n",
            "Try using .loc[row_indexer,col_indexer] = value instead\n",
            "\n",
            "See the caveats in the documentation: https://pandas.pydata.org/pandas-docs/stable/user_guide/indexing.html#returning-a-view-versus-a-copy\n",
            "  This is separate from the ipykernel package so we can avoid doing imports until\n",
            "/usr/local/lib/python3.7/dist-packages/ipykernel_launcher.py:4: SettingWithCopyWarning: \n",
            "A value is trying to be set on a copy of a slice from a DataFrame.\n",
            "Try using .loc[row_indexer,col_indexer] = value instead\n",
            "\n",
            "See the caveats in the documentation: https://pandas.pydata.org/pandas-docs/stable/user_guide/indexing.html#returning-a-view-versus-a-copy\n",
            "  after removing the cwd from sys.path.\n",
            "/usr/local/lib/python3.7/dist-packages/ipykernel_launcher.py:5: SettingWithCopyWarning: \n",
            "A value is trying to be set on a copy of a slice from a DataFrame.\n",
            "Try using .loc[row_indexer,col_indexer] = value instead\n",
            "\n",
            "See the caveats in the documentation: https://pandas.pydata.org/pandas-docs/stable/user_guide/indexing.html#returning-a-view-versus-a-copy\n",
            "  \"\"\"\n"
          ]
        }
      ]
    },
    {
      "cell_type": "code",
      "metadata": {
        "colab": {
          "base_uri": "https://localhost:8080/",
          "height": 424
        },
        "id": "knnA76ha3gAy",
        "outputId": "29d80050-7c36-4f0e-cb95-cc0c7722f170"
      },
      "source": [
        "flu_df_cleaned_dates"
      ],
      "execution_count": null,
      "outputs": [
        {
          "output_type": "execute_result",
          "data": {
            "text/html": [
              "<div>\n",
              "<style scoped>\n",
              "    .dataframe tbody tr th:only-of-type {\n",
              "        vertical-align: middle;\n",
              "    }\n",
              "\n",
              "    .dataframe tbody tr th {\n",
              "        vertical-align: top;\n",
              "    }\n",
              "\n",
              "    .dataframe thead th {\n",
              "        text-align: right;\n",
              "    }\n",
              "</style>\n",
              "<table border=\"1\" class=\"dataframe\">\n",
              "  <thead>\n",
              "    <tr style=\"text-align: right;\">\n",
              "      <th></th>\n",
              "      <th>Week_Ending_Date</th>\n",
              "      <th>Year</th>\n",
              "      <th>Month</th>\n",
              "      <th>Day</th>\n",
              "    </tr>\n",
              "  </thead>\n",
              "  <tbody>\n",
              "    <tr>\n",
              "      <th>0</th>\n",
              "      <td>11/20/2010</td>\n",
              "      <td>2010</td>\n",
              "      <td>11</td>\n",
              "      <td>20</td>\n",
              "    </tr>\n",
              "    <tr>\n",
              "      <th>5</th>\n",
              "      <td>01/24/2015</td>\n",
              "      <td>2015</td>\n",
              "      <td>1</td>\n",
              "      <td>24</td>\n",
              "    </tr>\n",
              "    <tr>\n",
              "      <th>8</th>\n",
              "      <td>11/04/2017</td>\n",
              "      <td>2017</td>\n",
              "      <td>11</td>\n",
              "      <td>4</td>\n",
              "    </tr>\n",
              "    <tr>\n",
              "      <th>9</th>\n",
              "      <td>12/30/2017</td>\n",
              "      <td>2017</td>\n",
              "      <td>12</td>\n",
              "      <td>30</td>\n",
              "    </tr>\n",
              "    <tr>\n",
              "      <th>10</th>\n",
              "      <td>03/31/2012</td>\n",
              "      <td>2012</td>\n",
              "      <td>3</td>\n",
              "      <td>31</td>\n",
              "    </tr>\n",
              "    <tr>\n",
              "      <th>...</th>\n",
              "      <td>...</td>\n",
              "      <td>...</td>\n",
              "      <td>...</td>\n",
              "      <td>...</td>\n",
              "    </tr>\n",
              "    <tr>\n",
              "      <th>64498</th>\n",
              "      <td>01/04/2020</td>\n",
              "      <td>2020</td>\n",
              "      <td>1</td>\n",
              "      <td>4</td>\n",
              "    </tr>\n",
              "    <tr>\n",
              "      <th>64504</th>\n",
              "      <td>03/28/2020</td>\n",
              "      <td>2020</td>\n",
              "      <td>3</td>\n",
              "      <td>28</td>\n",
              "    </tr>\n",
              "    <tr>\n",
              "      <th>64509</th>\n",
              "      <td>12/14/2019</td>\n",
              "      <td>2019</td>\n",
              "      <td>12</td>\n",
              "      <td>14</td>\n",
              "    </tr>\n",
              "    <tr>\n",
              "      <th>64511</th>\n",
              "      <td>01/25/2020</td>\n",
              "      <td>2020</td>\n",
              "      <td>1</td>\n",
              "      <td>25</td>\n",
              "    </tr>\n",
              "    <tr>\n",
              "      <th>64513</th>\n",
              "      <td>12/21/2019</td>\n",
              "      <td>2019</td>\n",
              "      <td>12</td>\n",
              "      <td>21</td>\n",
              "    </tr>\n",
              "  </tbody>\n",
              "</table>\n",
              "<p>23405 rows × 4 columns</p>\n",
              "</div>"
            ],
            "text/plain": [
              "      Week_Ending_Date  Year  Month  Day\n",
              "0           11/20/2010  2010     11   20\n",
              "5           01/24/2015  2015      1   24\n",
              "8           11/04/2017  2017     11    4\n",
              "9           12/30/2017  2017     12   30\n",
              "10          03/31/2012  2012      3   31\n",
              "...                ...   ...    ...  ...\n",
              "64498       01/04/2020  2020      1    4\n",
              "64504       03/28/2020  2020      3   28\n",
              "64509       12/14/2019  2019     12   14\n",
              "64511       01/25/2020  2020      1   25\n",
              "64513       12/21/2019  2019     12   21\n",
              "\n",
              "[23405 rows x 4 columns]"
            ]
          },
          "metadata": {},
          "execution_count": 23
        }
      ]
    },
    {
      "cell_type": "markdown",
      "metadata": {
        "id": "kSiVw95UxSSY"
      },
      "source": [
        "Pass the dataframe into the auograder cell below (5 points) -- please note that the column names are case-sensitive!"
      ]
    },
    {
      "cell_type": "code",
      "metadata": {
        "id": "QdnQsKiBs8Ra",
        "colab": {
          "base_uri": "https://localhost:8080/"
        },
        "outputId": "b04fae11-459e-4aef-dcfb-54878d4764ed"
      },
      "source": [
        "# [CIS 545 PennGrader Cell] - 5 points\n",
        "grader.grade(test_case_id = 'flu_end_date_test', answer = flu_df_cleaned_dates)"
      ],
      "execution_count": null,
      "outputs": [
        {
          "output_type": "stream",
          "name": "stdout",
          "text": [
            "You earned 4/5 points.\n",
            "\n",
            "But, don't worry you can re-submit and we will keep only your latest score.\n"
          ]
        }
      ]
    },
    {
      "cell_type": "markdown",
      "metadata": {
        "id": "-SmL7E4Txm7v"
      },
      "source": [
        "As mentioned above, we now have two more tasks to do in order to clean up and wrangle this flu dataframe. The first is as follows: one column in the flu_df_cleaned dataframe contains longitude and latitude data; create two columns, one for latitude and one for longitude (make sure the new columns have numeric types). \n",
        "Name the columns `Latitude` and `Longitude` (5 points)"
      ]
    },
    {
      "cell_type": "code",
      "metadata": {
        "id": "D5MXlbzOxmUM",
        "colab": {
          "base_uri": "https://localhost:8080/"
        },
        "outputId": "8d87c7d6-93dc-441a-e51f-a67a1739e0ab"
      },
      "source": [
        "# TODO: Next, extract columns for `Latitude` and `Longitude` by processing the tuple in `County_Centroid`\n",
        "flu_df_cleaned_dates[\"County_Centroid\"]=flu_df_cleaned[\"County_Centroid\"].str.split(\",\")"
      ],
      "execution_count": null,
      "outputs": [
        {
          "output_type": "stream",
          "name": "stderr",
          "text": [
            "/usr/local/lib/python3.7/dist-packages/ipykernel_launcher.py:2: SettingWithCopyWarning: \n",
            "A value is trying to be set on a copy of a slice from a DataFrame.\n",
            "Try using .loc[row_indexer,col_indexer] = value instead\n",
            "\n",
            "See the caveats in the documentation: https://pandas.pydata.org/pandas-docs/stable/user_guide/indexing.html#returning-a-view-versus-a-copy\n",
            "  \n"
          ]
        }
      ]
    },
    {
      "cell_type": "code",
      "metadata": {
        "id": "30gERlasXmm2"
      },
      "source": [
        "# TODO: Cast the `Latitude` and `Longitude` column into numeric types\n",
        "flu_df_cleaned_dates[\"Latitude\"]=flu_df_cleaned_dates[\"County_Centroid\"].str[0].str[1:].astype(float)\n",
        "flu_df_cleaned_dates[\"Longitude\"]=flu_df_cleaned_dates[\"County_Centroid\"].str[1].str[:-1].astype(float)"
      ],
      "execution_count": null,
      "outputs": []
    },
    {
      "cell_type": "code",
      "metadata": {
        "id": "LHk5AivYFjS5",
        "colab": {
          "base_uri": "https://localhost:8080/"
        },
        "outputId": "4f18e5b4-03b8-428f-cb43-1ae65ac5bb09"
      },
      "source": [
        "# [CIS 545 PennGrader Cell] - 5 points\n",
        "grader.grade(test_case_id = 'flu_lat_long', answer = flu_df_cleaned_dates)"
      ],
      "execution_count": null,
      "outputs": [
        {
          "output_type": "stream",
          "name": "stdout",
          "text": [
            "Correct! You earned 5/5 points. You are a star!\n",
            "\n",
            "Your submission has been successfully recorded in the gradebook.\n"
          ]
        }
      ]
    },
    {
      "cell_type": "markdown",
      "metadata": {
        "id": "_NMB9GlSAd0o"
      },
      "source": [
        "Lastly, we are interested in learning a bit more about when this data was collected. We aren't sure if the every week of the year is equally represented in the dataset. We want to know the average week number of the <code>Week_Ending_Date</code> column. The week number is a scalar that ranges from 1 to 52. \n",
        "\n",
        "Store this as `mean_week_num_collected`. Think about what type of variable this should be, considering that we're looking at a week number! (5 points)"
      ]
    },
    {
      "cell_type": "code",
      "metadata": {
        "id": "eaEcmAdiAb0V",
        "colab": {
          "base_uri": "https://localhost:8080/",
          "height": 687
        },
        "outputId": "933a9d0b-4ece-402d-e5d0-29c32ccf9988"
      },
      "source": [
        "# TODO: Finally, compute the average week of the year using the \"Week_Ending_Date\" column and set your answer to \"mean_week_num_collected\"\n",
        "flu_df_cleaned_days = flu_df_cleaned_dates[[\"Year\", \"Month\",\"Day\"]]\n",
        "flu_df_cleaned_days[\"Date\"]=pd.to_datetime(flu_df_cleaned_days[[\"Year\", \"Month\", \"Day\"]])\n",
        "flu_df_cleaned_days[\"Week_Num\"]=flu_df_cleaned_days[\"Date\"].dt.week\n",
        "flu_df_cleaned_days"
      ],
      "execution_count": null,
      "outputs": [
        {
          "output_type": "stream",
          "name": "stderr",
          "text": [
            "/usr/local/lib/python3.7/dist-packages/ipykernel_launcher.py:3: SettingWithCopyWarning: \n",
            "A value is trying to be set on a copy of a slice from a DataFrame.\n",
            "Try using .loc[row_indexer,col_indexer] = value instead\n",
            "\n",
            "See the caveats in the documentation: https://pandas.pydata.org/pandas-docs/stable/user_guide/indexing.html#returning-a-view-versus-a-copy\n",
            "  This is separate from the ipykernel package so we can avoid doing imports until\n",
            "/usr/local/lib/python3.7/dist-packages/ipykernel_launcher.py:4: FutureWarning: Series.dt.weekofyear and Series.dt.week have been deprecated.  Please use Series.dt.isocalendar().week instead.\n",
            "  after removing the cwd from sys.path.\n",
            "/usr/local/lib/python3.7/dist-packages/ipykernel_launcher.py:4: SettingWithCopyWarning: \n",
            "A value is trying to be set on a copy of a slice from a DataFrame.\n",
            "Try using .loc[row_indexer,col_indexer] = value instead\n",
            "\n",
            "See the caveats in the documentation: https://pandas.pydata.org/pandas-docs/stable/user_guide/indexing.html#returning-a-view-versus-a-copy\n",
            "  after removing the cwd from sys.path.\n"
          ]
        },
        {
          "output_type": "execute_result",
          "data": {
            "text/html": [
              "<div>\n",
              "<style scoped>\n",
              "    .dataframe tbody tr th:only-of-type {\n",
              "        vertical-align: middle;\n",
              "    }\n",
              "\n",
              "    .dataframe tbody tr th {\n",
              "        vertical-align: top;\n",
              "    }\n",
              "\n",
              "    .dataframe thead th {\n",
              "        text-align: right;\n",
              "    }\n",
              "</style>\n",
              "<table border=\"1\" class=\"dataframe\">\n",
              "  <thead>\n",
              "    <tr style=\"text-align: right;\">\n",
              "      <th></th>\n",
              "      <th>Year</th>\n",
              "      <th>Month</th>\n",
              "      <th>Day</th>\n",
              "      <th>Date</th>\n",
              "      <th>Week_Num</th>\n",
              "    </tr>\n",
              "  </thead>\n",
              "  <tbody>\n",
              "    <tr>\n",
              "      <th>0</th>\n",
              "      <td>2010</td>\n",
              "      <td>11</td>\n",
              "      <td>20</td>\n",
              "      <td>2010-11-20</td>\n",
              "      <td>46</td>\n",
              "    </tr>\n",
              "    <tr>\n",
              "      <th>5</th>\n",
              "      <td>2015</td>\n",
              "      <td>1</td>\n",
              "      <td>24</td>\n",
              "      <td>2015-01-24</td>\n",
              "      <td>4</td>\n",
              "    </tr>\n",
              "    <tr>\n",
              "      <th>8</th>\n",
              "      <td>2017</td>\n",
              "      <td>11</td>\n",
              "      <td>4</td>\n",
              "      <td>2017-11-04</td>\n",
              "      <td>44</td>\n",
              "    </tr>\n",
              "    <tr>\n",
              "      <th>9</th>\n",
              "      <td>2017</td>\n",
              "      <td>12</td>\n",
              "      <td>30</td>\n",
              "      <td>2017-12-30</td>\n",
              "      <td>52</td>\n",
              "    </tr>\n",
              "    <tr>\n",
              "      <th>10</th>\n",
              "      <td>2012</td>\n",
              "      <td>3</td>\n",
              "      <td>31</td>\n",
              "      <td>2012-03-31</td>\n",
              "      <td>13</td>\n",
              "    </tr>\n",
              "    <tr>\n",
              "      <th>...</th>\n",
              "      <td>...</td>\n",
              "      <td>...</td>\n",
              "      <td>...</td>\n",
              "      <td>...</td>\n",
              "      <td>...</td>\n",
              "    </tr>\n",
              "    <tr>\n",
              "      <th>64498</th>\n",
              "      <td>2020</td>\n",
              "      <td>1</td>\n",
              "      <td>4</td>\n",
              "      <td>2020-01-04</td>\n",
              "      <td>1</td>\n",
              "    </tr>\n",
              "    <tr>\n",
              "      <th>64504</th>\n",
              "      <td>2020</td>\n",
              "      <td>3</td>\n",
              "      <td>28</td>\n",
              "      <td>2020-03-28</td>\n",
              "      <td>13</td>\n",
              "    </tr>\n",
              "    <tr>\n",
              "      <th>64509</th>\n",
              "      <td>2019</td>\n",
              "      <td>12</td>\n",
              "      <td>14</td>\n",
              "      <td>2019-12-14</td>\n",
              "      <td>50</td>\n",
              "    </tr>\n",
              "    <tr>\n",
              "      <th>64511</th>\n",
              "      <td>2020</td>\n",
              "      <td>1</td>\n",
              "      <td>25</td>\n",
              "      <td>2020-01-25</td>\n",
              "      <td>4</td>\n",
              "    </tr>\n",
              "    <tr>\n",
              "      <th>64513</th>\n",
              "      <td>2019</td>\n",
              "      <td>12</td>\n",
              "      <td>21</td>\n",
              "      <td>2019-12-21</td>\n",
              "      <td>51</td>\n",
              "    </tr>\n",
              "  </tbody>\n",
              "</table>\n",
              "<p>23405 rows × 5 columns</p>\n",
              "</div>"
            ],
            "text/plain": [
              "       Year  Month  Day       Date  Week_Num\n",
              "0      2010     11   20 2010-11-20        46\n",
              "5      2015      1   24 2015-01-24         4\n",
              "8      2017     11    4 2017-11-04        44\n",
              "9      2017     12   30 2017-12-30        52\n",
              "10     2012      3   31 2012-03-31        13\n",
              "...     ...    ...  ...        ...       ...\n",
              "64498  2020      1    4 2020-01-04         1\n",
              "64504  2020      3   28 2020-03-28        13\n",
              "64509  2019     12   14 2019-12-14        50\n",
              "64511  2020      1   25 2020-01-25         4\n",
              "64513  2019     12   21 2019-12-21        51\n",
              "\n",
              "[23405 rows x 5 columns]"
            ]
          },
          "metadata": {},
          "execution_count": 28
        }
      ]
    },
    {
      "cell_type": "code",
      "metadata": {
        "id": "Kb0mDbmvYNYS",
        "colab": {
          "base_uri": "https://localhost:8080/"
        },
        "outputId": "def9490a-2ace-4174-c290-9f3ea1ad89da"
      },
      "source": [
        "# View the output of the variable here before running the grader cell\n",
        "mean_week_num_collected = flu_df_cleaned_days[\"Week_Num\"].mean()\n",
        "print(mean_week_num_collected)\n",
        "print(type(mean_week_num_collected))"
      ],
      "execution_count": null,
      "outputs": [
        {
          "output_type": "stream",
          "name": "stdout",
          "text": [
            "19.024011963255713\n",
            "<class 'float'>\n"
          ]
        }
      ]
    },
    {
      "cell_type": "code",
      "metadata": {
        "id": "W2TKXxMUFenu",
        "colab": {
          "base_uri": "https://localhost:8080/"
        },
        "outputId": "8ec7917c-8ca7-4239-d77f-a0d86f2b118e"
      },
      "source": [
        "# [CIS 545 PennGrader Cell] - 5 points\n",
        "grader.grade(test_case_id = 'flu_week_mean', answer = mean_week_num_collected)"
      ],
      "execution_count": null,
      "outputs": [
        {
          "output_type": "stream",
          "name": "stdout",
          "text": [
            "Correct! You earned 5/5 points. You are a star!\n",
            "\n",
            "Your submission has been successfully recorded in the gradebook.\n"
          ]
        }
      ]
    },
    {
      "cell_type": "markdown",
      "metadata": {
        "id": "GC74xCFLs9x8"
      },
      "source": [
        "##1.4 Which Counties have the highest average count of Influenza A from September to March?\n",
        "\n",
        "Let's find which counties have the highest average count of Influenza A from September to March (flu season!), inclusive. We'll use a `groupby` function here, and also do a bit of postprocessing to clean up our dataframe.\n",
        "\n",
        "####**TODO: 1.4**\n",
        "- Create a dataframe with only average (mean) influenza A counts and County name. The columns should be named `County` and `Average_Flu_A_Count`\n",
        "- Order it from highest to lowest average influenza A count\n",
        "- Edit `County` so that we only capitalize the first letter of the county\n",
        "- Store this as `flu_A_by_county` (8 points)\n",
        "- Make a plot of this data using the `matplotlib` package (4 points)\n"
      ]
    },
    {
      "cell_type": "code",
      "metadata": {
        "id": "b12pwigj1spg",
        "colab": {
          "base_uri": "https://localhost:8080/"
        },
        "outputId": "c08f7585-84d6-4606-c3d2-38c564d2dad7"
      },
      "source": [
        "# TODO: Create `flu_A_by_county` - look at the groupby functions!\n",
        "#flu_df.drop(flu_df[flu_df[\"Count\"]==0].index, inplace = True)\n",
        "\n",
        "flu_A_by_county = flu_df_cleaned[[\"County\",\"Count\",\"Week_Ending_Date\"]]\n",
        "flu_A_by_county[\"Month\"] = flu_A_by_county[\"Week_Ending_Date\"].str[:2].astype(int)\n",
        "flu_A_by_county=flu_A_by_county[flu_A_by_county[\"Month\"].isin([9,10,11,12,1,2,3])]\n",
        "\n",
        "#index_names = flu_A_by_county[ (flu_A_by_county[\"Month\"]>3) | (flu_A_by_county[\"Month\"]<9)].index\n",
        "#flu_A_by_county=flu_A_by_county.drop(index_names, inplace=True)\n",
        "flu_A_by_county=flu_A_by_county.drop(columns={\"Month\"})\n",
        "flu_A_by_county=flu_A_by_county.groupby([\"County\"], as_index=False).mean()\n"
      ],
      "execution_count": null,
      "outputs": [
        {
          "output_type": "stream",
          "name": "stderr",
          "text": [
            "/usr/local/lib/python3.7/dist-packages/ipykernel_launcher.py:5: SettingWithCopyWarning: \n",
            "A value is trying to be set on a copy of a slice from a DataFrame.\n",
            "Try using .loc[row_indexer,col_indexer] = value instead\n",
            "\n",
            "See the caveats in the documentation: https://pandas.pydata.org/pandas-docs/stable/user_guide/indexing.html#returning-a-view-versus-a-copy\n",
            "  \"\"\"\n"
          ]
        }
      ]
    },
    {
      "cell_type": "code",
      "metadata": {
        "id": "DUizoHpXfTaY"
      },
      "source": [
        "# TODO: Make sure to update your dataframe as appropriate so it matches the syntax expected!\n",
        "flu_A_by_county=flu_A_by_county.rename(columns={\"County\":\"County\",\"Count\":\"Average_Flu_A_Count\"})"
      ],
      "execution_count": null,
      "outputs": []
    },
    {
      "cell_type": "code",
      "metadata": {
        "colab": {
          "base_uri": "https://localhost:8080/",
          "height": 424
        },
        "id": "94Ux_1Y7Bxs5",
        "outputId": "50abd53d-1ed1-42f6-f977-66e600c8870b"
      },
      "source": [
        "#flu_df_cleaned\n",
        "flu_A_by_county"
      ],
      "execution_count": null,
      "outputs": [
        {
          "output_type": "execute_result",
          "data": {
            "text/html": [
              "<div>\n",
              "<style scoped>\n",
              "    .dataframe tbody tr th:only-of-type {\n",
              "        vertical-align: middle;\n",
              "    }\n",
              "\n",
              "    .dataframe tbody tr th {\n",
              "        vertical-align: top;\n",
              "    }\n",
              "\n",
              "    .dataframe thead th {\n",
              "        text-align: right;\n",
              "    }\n",
              "</style>\n",
              "<table border=\"1\" class=\"dataframe\">\n",
              "  <thead>\n",
              "    <tr style=\"text-align: right;\">\n",
              "      <th></th>\n",
              "      <th>County</th>\n",
              "      <th>Average_Flu_A_Count</th>\n",
              "    </tr>\n",
              "  </thead>\n",
              "  <tbody>\n",
              "    <tr>\n",
              "      <th>0</th>\n",
              "      <td>ALBANY</td>\n",
              "      <td>20.953560</td>\n",
              "    </tr>\n",
              "    <tr>\n",
              "      <th>1</th>\n",
              "      <td>ALLEGANY</td>\n",
              "      <td>10.172414</td>\n",
              "    </tr>\n",
              "    <tr>\n",
              "      <th>2</th>\n",
              "      <td>BRONX</td>\n",
              "      <td>102.099213</td>\n",
              "    </tr>\n",
              "    <tr>\n",
              "      <th>3</th>\n",
              "      <td>BROOME</td>\n",
              "      <td>32.318750</td>\n",
              "    </tr>\n",
              "    <tr>\n",
              "      <th>4</th>\n",
              "      <td>CATTARAUGUS</td>\n",
              "      <td>9.934066</td>\n",
              "    </tr>\n",
              "    <tr>\n",
              "      <th>...</th>\n",
              "      <td>...</td>\n",
              "      <td>...</td>\n",
              "    </tr>\n",
              "    <tr>\n",
              "      <th>57</th>\n",
              "      <td>WASHINGTON</td>\n",
              "      <td>6.519802</td>\n",
              "    </tr>\n",
              "    <tr>\n",
              "      <th>58</th>\n",
              "      <td>WAYNE</td>\n",
              "      <td>22.084942</td>\n",
              "    </tr>\n",
              "    <tr>\n",
              "      <th>59</th>\n",
              "      <td>WESTCHESTER</td>\n",
              "      <td>68.955473</td>\n",
              "    </tr>\n",
              "    <tr>\n",
              "      <th>60</th>\n",
              "      <td>WYOMING</td>\n",
              "      <td>7.033898</td>\n",
              "    </tr>\n",
              "    <tr>\n",
              "      <th>61</th>\n",
              "      <td>YATES</td>\n",
              "      <td>5.910615</td>\n",
              "    </tr>\n",
              "  </tbody>\n",
              "</table>\n",
              "<p>62 rows × 2 columns</p>\n",
              "</div>"
            ],
            "text/plain": [
              "         County  Average_Flu_A_Count\n",
              "0        ALBANY            20.953560\n",
              "1      ALLEGANY            10.172414\n",
              "2         BRONX           102.099213\n",
              "3        BROOME            32.318750\n",
              "4   CATTARAUGUS             9.934066\n",
              "..          ...                  ...\n",
              "57   WASHINGTON             6.519802\n",
              "58        WAYNE            22.084942\n",
              "59  WESTCHESTER            68.955473\n",
              "60      WYOMING             7.033898\n",
              "61        YATES             5.910615\n",
              "\n",
              "[62 rows x 2 columns]"
            ]
          },
          "metadata": {},
          "execution_count": 33
        }
      ]
    },
    {
      "cell_type": "markdown",
      "metadata": {
        "id": "foPROEvbfjYV"
      },
      "source": [
        "Your table should look something like\n",
        ">County | Average_Flu_A_Count\n",
        ">--- | ---\n",
        ">Countyname | Number1\n",
        ">Othercounty | Number2\n"
      ]
    },
    {
      "cell_type": "code",
      "metadata": {
        "id": "rFx3RRf6XhKG",
        "colab": {
          "base_uri": "https://localhost:8080/"
        },
        "outputId": "287f70c9-e3d9-48e7-d331-e5283277f68b"
      },
      "source": [
        "# [CIS 545 PennGrader Cell] - 8 points\n",
        "grader.grade(test_case_id = 'flu_A_top_county', answer = flu_A_by_county)"
      ],
      "execution_count": null,
      "outputs": [
        {
          "output_type": "stream",
          "name": "stdout",
          "text": [
            "You earned 2/8 points.\n",
            "\n",
            "But, don't worry you can re-submit and we will keep only your latest score.\n"
          ]
        }
      ]
    },
    {
      "cell_type": "markdown",
      "metadata": {
        "id": "p6ALcN28JJlx"
      },
      "source": [
        "Plot a bar plot of the 5 counties with the highest Average Influenza A counts from September to March. We will be manually grading this, and we understand there will be a lot of differences between individual plots -- so don't worry too much about this. (4 points)\n",
        "\n",
        "<br>\n",
        "\n",
        "We're going to be making sure your plots are correct and reasonable; small things like axes labels and colors we'd invite you to do if you want to make your plot better and more useful to an end-user. We likely won't be answering questions about the specifics here as a result!"
      ]
    },
    {
      "cell_type": "code",
      "metadata": {
        "id": "YC0jdkyo1_5z"
      },
      "source": [
        "# TODO: Create a plot using matplotlib. - 4 points. \n",
        "# You may also use other libraries like plotly or seaborn if you like, but we can't guarantee the same level of help for these other libraries\n"
      ],
      "execution_count": null,
      "outputs": []
    },
    {
      "cell_type": "markdown",
      "metadata": {
        "id": "NoF4LKyCd34x"
      },
      "source": [
        "##1.5 Looking at Hospital Infection Data\n",
        "\n",
        "Now lets bring in our hospital infection data. \n",
        "\n",
        "Just like our `flu_df`, we need to clean and prepare our hospital infection data (more data wrangling!). Visualize the `hospital_df` dataframe below to take a look at it. \n"
      ]
    },
    {
      "cell_type": "code",
      "metadata": {
        "id": "4DeHO_I7AKHs",
        "colab": {
          "base_uri": "https://localhost:8080/",
          "height": 774
        },
        "outputId": "bf5747c4-a9b2-4c1e-c34a-ae2a1b7c5eb1"
      },
      "source": [
        "#TODO: Take a look at the hopsital_df\n",
        "hospital_df"
      ],
      "execution_count": null,
      "outputs": [
        {
          "output_type": "execute_result",
          "data": {
            "text/html": [
              "<div>\n",
              "<style scoped>\n",
              "    .dataframe tbody tr th:only-of-type {\n",
              "        vertical-align: middle;\n",
              "    }\n",
              "\n",
              "    .dataframe tbody tr th {\n",
              "        vertical-align: top;\n",
              "    }\n",
              "\n",
              "    .dataframe thead th {\n",
              "        text-align: right;\n",
              "    }\n",
              "</style>\n",
              "<table border=\"1\" class=\"dataframe\">\n",
              "  <thead>\n",
              "    <tr style=\"text-align: right;\">\n",
              "      <th></th>\n",
              "      <th>Facility_ID</th>\n",
              "      <th>Hospital_Name</th>\n",
              "      <th>Indicator_Name</th>\n",
              "      <th>Year</th>\n",
              "      <th>Infections_Observed</th>\n",
              "      <th>Infections_Predicted</th>\n",
              "      <th>Denominator</th>\n",
              "      <th>Indicator_Value</th>\n",
              "      <th>Indicator_Lower_Confidence_Limit</th>\n",
              "      <th>Indicator_Upper_Confidence_Limit</th>\n",
              "      <th>Indicator_Units</th>\n",
              "      <th>Comparison_Results</th>\n",
              "      <th>New_Georeferenced_Column</th>\n",
              "    </tr>\n",
              "  </thead>\n",
              "  <tbody>\n",
              "    <tr>\n",
              "      <th>0</th>\n",
              "      <td>0</td>\n",
              "      <td>New York State - All Hospitals</td>\n",
              "      <td>CLABSI Medical ICU</td>\n",
              "      <td>2018</td>\n",
              "      <td>100.0</td>\n",
              "      <td>NaN</td>\n",
              "      <td>120323.0</td>\n",
              "      <td>0.83</td>\n",
              "      <td>NaN</td>\n",
              "      <td>NaN</td>\n",
              "      <td># CLABSI per 1000 line days</td>\n",
              "      <td>NaN</td>\n",
              "      <td>NaN</td>\n",
              "    </tr>\n",
              "    <tr>\n",
              "      <th>1</th>\n",
              "      <td>85</td>\n",
              "      <td>Auburn Community Hospital</td>\n",
              "      <td>SSI Hysterectomy</td>\n",
              "      <td>2018</td>\n",
              "      <td>NaN</td>\n",
              "      <td>NaN</td>\n",
              "      <td>NaN</td>\n",
              "      <td>NaN</td>\n",
              "      <td>NaN</td>\n",
              "      <td>NaN</td>\n",
              "      <td># SSI per 100 procedures, risk-adjusted</td>\n",
              "      <td>Not compared, less than 20 procedures</td>\n",
              "      <td>(42.940811, -76.564758)</td>\n",
              "    </tr>\n",
              "    <tr>\n",
              "      <th>2</th>\n",
              "      <td>367</td>\n",
              "      <td>Samaritan Medical Center</td>\n",
              "      <td>CLABSI Medical Ward</td>\n",
              "      <td>2018</td>\n",
              "      <td>0.0</td>\n",
              "      <td>0.07</td>\n",
              "      <td>77.0</td>\n",
              "      <td>0.00</td>\n",
              "      <td>0.00</td>\n",
              "      <td>38.91</td>\n",
              "      <td># CLABSI per 1000 line days</td>\n",
              "      <td>Not significantly different than NYS 2018 average</td>\n",
              "      <td>(43.964928, -75.912827)</td>\n",
              "    </tr>\n",
              "    <tr>\n",
              "      <th>3</th>\n",
              "      <td>528</td>\n",
              "      <td>Nassau University Medical Center</td>\n",
              "      <td>CLABSI Pediatric ICU</td>\n",
              "      <td>2018</td>\n",
              "      <td>NaN</td>\n",
              "      <td>NaN</td>\n",
              "      <td>NaN</td>\n",
              "      <td>NaN</td>\n",
              "      <td>NaN</td>\n",
              "      <td>NaN</td>\n",
              "      <td># CLABSI per 1000 line days</td>\n",
              "      <td>Not compared, less than 50 central line days</td>\n",
              "      <td>(40.725353, -73.554321)</td>\n",
              "    </tr>\n",
              "    <tr>\n",
              "      <th>4</th>\n",
              "      <td>676</td>\n",
              "      <td>Clifton Springs Hospital and Clinic</td>\n",
              "      <td>SSI Colon</td>\n",
              "      <td>2018</td>\n",
              "      <td>NaN</td>\n",
              "      <td>NaN</td>\n",
              "      <td>NaN</td>\n",
              "      <td>NaN</td>\n",
              "      <td>NaN</td>\n",
              "      <td>NaN</td>\n",
              "      <td># SSI per 100 procedures, risk-adjusted</td>\n",
              "      <td>Not compared, less than 20 procedures</td>\n",
              "      <td>(42.960537, -77.138863)</td>\n",
              "    </tr>\n",
              "    <tr>\n",
              "      <th>...</th>\n",
              "      <td>...</td>\n",
              "      <td>...</td>\n",
              "      <td>...</td>\n",
              "      <td>...</td>\n",
              "      <td>...</td>\n",
              "      <td>...</td>\n",
              "      <td>...</td>\n",
              "      <td>...</td>\n",
              "      <td>...</td>\n",
              "      <td>...</td>\n",
              "      <td>...</td>\n",
              "      <td>...</td>\n",
              "      <td>...</td>\n",
              "    </tr>\n",
              "    <tr>\n",
              "      <th>21656</th>\n",
              "      <td>541</td>\n",
              "      <td>North Shore University Hospital</td>\n",
              "      <td>SSI CABG chest site</td>\n",
              "      <td>2008</td>\n",
              "      <td>18.0</td>\n",
              "      <td>12.86</td>\n",
              "      <td>640.0</td>\n",
              "      <td>3.02</td>\n",
              "      <td>1.79</td>\n",
              "      <td>4.77</td>\n",
              "      <td># SSI per 100 procedures, risk-adjusted</td>\n",
              "      <td>Not significantly different than NYS 2008 average</td>\n",
              "      <td>(40.77924, -73.702888)</td>\n",
              "    </tr>\n",
              "    <tr>\n",
              "      <th>21657</th>\n",
              "      <td>924</td>\n",
              "      <td>Southside Hospital</td>\n",
              "      <td>CLABSI Medical Surgical ICU</td>\n",
              "      <td>2009</td>\n",
              "      <td>3.0</td>\n",
              "      <td>5.50</td>\n",
              "      <td>2935.0</td>\n",
              "      <td>1.02</td>\n",
              "      <td>0.21</td>\n",
              "      <td>2.99</td>\n",
              "      <td># CLABSI per 1000 line days</td>\n",
              "      <td>Not significantly different than NYS 2009 average</td>\n",
              "      <td>(40.725014, -73.240372)</td>\n",
              "    </tr>\n",
              "    <tr>\n",
              "      <th>21658</th>\n",
              "      <td>739</td>\n",
              "      <td>Aurelia Osborn Fox Memorial Hospital</td>\n",
              "      <td>SSI Hip</td>\n",
              "      <td>2008</td>\n",
              "      <td>0.0</td>\n",
              "      <td>0.21</td>\n",
              "      <td>25.0</td>\n",
              "      <td>0.00</td>\n",
              "      <td>0.00</td>\n",
              "      <td>15.63</td>\n",
              "      <td># SSI per 100 procedures, risk-adjusted</td>\n",
              "      <td>Not significantly different than NYS 2008 average</td>\n",
              "      <td>(42.457405, -75.053261)</td>\n",
              "    </tr>\n",
              "    <tr>\n",
              "      <th>21659</th>\n",
              "      <td>1456</td>\n",
              "      <td>Mount Sinai Hospital</td>\n",
              "      <td>SSI CABG donor site</td>\n",
              "      <td>2008</td>\n",
              "      <td>7.0</td>\n",
              "      <td>5.02</td>\n",
              "      <td>457.0</td>\n",
              "      <td>1.38</td>\n",
              "      <td>0.56</td>\n",
              "      <td>2.85</td>\n",
              "      <td># SSI per 100 procedures, risk-adjusted</td>\n",
              "      <td>Not significantly different than NYS 2008 average</td>\n",
              "      <td>(40.790482, -73.953766)</td>\n",
              "    </tr>\n",
              "    <tr>\n",
              "      <th>21660</th>\n",
              "      <td>671</td>\n",
              "      <td>Geneva General Hospital</td>\n",
              "      <td>SSI Colon</td>\n",
              "      <td>2008</td>\n",
              "      <td>1.0</td>\n",
              "      <td>2.18</td>\n",
              "      <td>47.0</td>\n",
              "      <td>2.03</td>\n",
              "      <td>0.05</td>\n",
              "      <td>11.34</td>\n",
              "      <td># SSI per 100 procedures, risk-adjusted</td>\n",
              "      <td>Not significantly different than NYS 2008 average</td>\n",
              "      <td>(42.875748, -76.987427)</td>\n",
              "    </tr>\n",
              "  </tbody>\n",
              "</table>\n",
              "<p>21661 rows × 13 columns</p>\n",
              "</div>"
            ],
            "text/plain": [
              "       Facility_ID  ... New_Georeferenced_Column\n",
              "0                0  ...                      NaN\n",
              "1               85  ...  (42.940811, -76.564758)\n",
              "2              367  ...  (43.964928, -75.912827)\n",
              "3              528  ...  (40.725353, -73.554321)\n",
              "4              676  ...  (42.960537, -77.138863)\n",
              "...            ...  ...                      ...\n",
              "21656          541  ...   (40.77924, -73.702888)\n",
              "21657          924  ...  (40.725014, -73.240372)\n",
              "21658          739  ...  (42.457405, -75.053261)\n",
              "21659         1456  ...  (40.790482, -73.953766)\n",
              "21660          671  ...  (42.875748, -76.987427)\n",
              "\n",
              "[21661 rows x 13 columns]"
            ]
          },
          "metadata": {},
          "execution_count": 36
        }
      ]
    },
    {
      "cell_type": "markdown",
      "metadata": {
        "id": "c2AqU7DuXt0T"
      },
      "source": [
        "#### **TODO: 1.5**\n",
        "- Compute `second_null`, the column that has the second null in a given row (this won't be the same value for all rows) (8 points)"
      ]
    },
    {
      "cell_type": "markdown",
      "metadata": {
        "id": "e-4e-Ffv_1ro"
      },
      "source": [
        "Before we clean this dataframe, we would like to answer a finicky question about the dataframe. We want to get an idea for the extent of the null values in the dataframe. For each row in hospital_df we want to know which column contains the **second null value in the row.**\n",
        "\n",
        "Create a series named `second_null` that has the answer to this question. You may find that functions like `cumsum()` and `idxmax()` might be helpful -- we'd recommend looking at the documentation to think about how to use these before asking on Piazza!"
      ]
    },
    {
      "cell_type": "code",
      "metadata": {
        "id": "2BDSvuf8_1KP",
        "colab": {
          "base_uri": "https://localhost:8080/"
        },
        "outputId": "c74bfd0c-0496-4394-973b-fad1d8e4c8f8"
      },
      "source": [
        "# TODO: Compute `second_null`\n",
        "second_null= hospital_df.isna().cumsum(1).eq(2).idxmax(1).where(hospital_df.isna().sum(1).gt(1))\n",
        "second_null"
      ],
      "execution_count": null,
      "outputs": [
        {
          "output_type": "execute_result",
          "data": {
            "text/plain": [
              "0        Indicator_Lower_Confidence_Limit\n",
              "1                    Infections_Predicted\n",
              "2                                     NaN\n",
              "3                    Infections_Predicted\n",
              "4                    Infections_Predicted\n",
              "                       ...               \n",
              "21656                                 NaN\n",
              "21657                                 NaN\n",
              "21658                                 NaN\n",
              "21659                                 NaN\n",
              "21660                                 NaN\n",
              "Length: 21661, dtype: object"
            ]
          },
          "metadata": {},
          "execution_count": 37
        }
      ]
    },
    {
      "cell_type": "markdown",
      "metadata": {
        "id": "aki52h_pBKa_"
      },
      "source": [
        "Pass the your `second_null` series into the grader cell below:"
      ]
    },
    {
      "cell_type": "code",
      "metadata": {
        "id": "WeQsOr7yFP_o",
        "colab": {
          "base_uri": "https://localhost:8080/"
        },
        "outputId": "50c0b641-37de-4393-9c9b-c9ca2430434d"
      },
      "source": [
        "# [CIS 545 PennGrader Cell] - 8 points\n",
        "grader.grade(test_case_id = 'find_second_null', answer = second_null)"
      ],
      "execution_count": null,
      "outputs": [
        {
          "output_type": "stream",
          "name": "stdout",
          "text": [
            "Correct! You earned 8/8 points. You are a star!\n",
            "\n",
            "Your submission has been successfully recorded in the gradebook.\n"
          ]
        }
      ]
    },
    {
      "cell_type": "markdown",
      "metadata": {
        "id": "glkzYMnXF_Vt"
      },
      "source": [
        "##1.6 Cleaning up Hospital Infection Data\n",
        "\n",
        "We now want to clean up our hospital infection data. Let's follow the some of the same steps we performed with the flu_df for dropping duplicates/nulls as well as two more cleaning tasks. \n",
        "\n",
        "#### **TODO: 1.6**\n",
        "- Drop duplicates and null values from `hospital_df` \n",
        "- Create columns for `Latitude` and `Longitude`\n",
        "- Replace every instance of \"Not significantly different than NYS 2018 average\" in the `Comparison Results` column with the string \"p-value greater than 0.05, NOT significantly different than NYS 2018 average\"\n",
        "- Save this as `hospital_df_cleaned` (8 points)\n"
      ]
    },
    {
      "cell_type": "markdown",
      "metadata": {
        "id": "UetZ8PppwyiL"
      },
      "source": [
        "First, drop all duplicates and nulls as we did before!"
      ]
    },
    {
      "cell_type": "code",
      "metadata": {
        "id": "ZNmpjlHsHkRZ",
        "colab": {
          "base_uri": "https://localhost:8080/",
          "height": 860
        },
        "outputId": "bc6d25e4-6967-4d18-a905-4b2b30eac8d2"
      },
      "source": [
        "# TODO: Drop duplicates and nulls\n",
        "hospital_df_cleaned = hospital_df\n",
        "hospital_df_cleaned.drop_duplicates()\n",
        "hospital_df_cleaned.dropna()"
      ],
      "execution_count": null,
      "outputs": [
        {
          "output_type": "execute_result",
          "data": {
            "text/html": [
              "<div>\n",
              "<style scoped>\n",
              "    .dataframe tbody tr th:only-of-type {\n",
              "        vertical-align: middle;\n",
              "    }\n",
              "\n",
              "    .dataframe tbody tr th {\n",
              "        vertical-align: top;\n",
              "    }\n",
              "\n",
              "    .dataframe thead th {\n",
              "        text-align: right;\n",
              "    }\n",
              "</style>\n",
              "<table border=\"1\" class=\"dataframe\">\n",
              "  <thead>\n",
              "    <tr style=\"text-align: right;\">\n",
              "      <th></th>\n",
              "      <th>Facility_ID</th>\n",
              "      <th>Hospital_Name</th>\n",
              "      <th>Indicator_Name</th>\n",
              "      <th>Year</th>\n",
              "      <th>Infections_Observed</th>\n",
              "      <th>Infections_Predicted</th>\n",
              "      <th>Denominator</th>\n",
              "      <th>Indicator_Value</th>\n",
              "      <th>Indicator_Lower_Confidence_Limit</th>\n",
              "      <th>Indicator_Upper_Confidence_Limit</th>\n",
              "      <th>Indicator_Units</th>\n",
              "      <th>Comparison_Results</th>\n",
              "      <th>New_Georeferenced_Column</th>\n",
              "      <th>Longitude</th>\n",
              "      <th>Latitude</th>\n",
              "    </tr>\n",
              "  </thead>\n",
              "  <tbody>\n",
              "    <tr>\n",
              "      <th>2</th>\n",
              "      <td>367</td>\n",
              "      <td>Samaritan Medical Center</td>\n",
              "      <td>CLABSI Medical Ward</td>\n",
              "      <td>2018</td>\n",
              "      <td>0.0</td>\n",
              "      <td>0.07</td>\n",
              "      <td>77.0</td>\n",
              "      <td>0.00</td>\n",
              "      <td>0.00</td>\n",
              "      <td>38.91</td>\n",
              "      <td># CLABSI per 1000 line days</td>\n",
              "      <td>p-value greater than 0.05, NOT significantly different than NYS 2018 average</td>\n",
              "      <td>(43.964928, -75.912827)</td>\n",
              "      <td>-75.912827</td>\n",
              "      <td>43.964928</td>\n",
              "    </tr>\n",
              "    <tr>\n",
              "      <th>6</th>\n",
              "      <td>889</td>\n",
              "      <td>University Hospital - Stony Brook Southampton Hospital</td>\n",
              "      <td>SSI Hysterectomy</td>\n",
              "      <td>2018</td>\n",
              "      <td>2.0</td>\n",
              "      <td>0.49</td>\n",
              "      <td>61.0</td>\n",
              "      <td>4.48</td>\n",
              "      <td>0.54</td>\n",
              "      <td>16.19</td>\n",
              "      <td># SSI per 100 procedures, risk-adjusted</td>\n",
              "      <td>p-value greater than 0.05, NOT significantly different than NYS 2018 average</td>\n",
              "      <td>(40.885757, -72.380692)</td>\n",
              "      <td>-72.380692</td>\n",
              "      <td>40.885757</td>\n",
              "    </tr>\n",
              "    <tr>\n",
              "      <th>18</th>\n",
              "      <td>181</td>\n",
              "      <td>Vassar Brothers Medical Center</td>\n",
              "      <td>CLABSI Medical Ward</td>\n",
              "      <td>2016</td>\n",
              "      <td>1.0</td>\n",
              "      <td>4.72</td>\n",
              "      <td>4144.0</td>\n",
              "      <td>0.24</td>\n",
              "      <td>0.01</td>\n",
              "      <td>1.34</td>\n",
              "      <td># CLABSI per 1000 line days</td>\n",
              "      <td>Not significantly different than NYS 2016 average</td>\n",
              "      <td>(41.694523, -73.935799)</td>\n",
              "      <td>-73.935799</td>\n",
              "      <td>41.694523</td>\n",
              "    </tr>\n",
              "    <tr>\n",
              "      <th>21</th>\n",
              "      <td>1456</td>\n",
              "      <td>Mount Sinai Hospital</td>\n",
              "      <td>SSI Colon</td>\n",
              "      <td>2016</td>\n",
              "      <td>45.0</td>\n",
              "      <td>39.50</td>\n",
              "      <td>946.0</td>\n",
              "      <td>5.69</td>\n",
              "      <td>4.15</td>\n",
              "      <td>7.61</td>\n",
              "      <td># SSI per 100 procedures, risk-adjusted</td>\n",
              "      <td>Not significantly different than NYS 2016 average</td>\n",
              "      <td>(40.790482, -73.953766)</td>\n",
              "      <td>-73.953766</td>\n",
              "      <td>40.790482</td>\n",
              "    </tr>\n",
              "    <tr>\n",
              "      <th>37</th>\n",
              "      <td>1463</td>\n",
              "      <td>NYU Langone Hospitals</td>\n",
              "      <td>SSI Hip</td>\n",
              "      <td>2014</td>\n",
              "      <td>1.0</td>\n",
              "      <td>0.80</td>\n",
              "      <td>63.0</td>\n",
              "      <td>1.19</td>\n",
              "      <td>0.03</td>\n",
              "      <td>6.62</td>\n",
              "      <td># SSI per 100 procedures, risk-adjusted</td>\n",
              "      <td>Not significantly different than NYS 2014 average</td>\n",
              "      <td>(40.742874, -73.974159)</td>\n",
              "      <td>-73.974159</td>\n",
              "      <td>40.742874</td>\n",
              "    </tr>\n",
              "    <tr>\n",
              "      <th>...</th>\n",
              "      <td>...</td>\n",
              "      <td>...</td>\n",
              "      <td>...</td>\n",
              "      <td>...</td>\n",
              "      <td>...</td>\n",
              "      <td>...</td>\n",
              "      <td>...</td>\n",
              "      <td>...</td>\n",
              "      <td>...</td>\n",
              "      <td>...</td>\n",
              "      <td>...</td>\n",
              "      <td>...</td>\n",
              "      <td>...</td>\n",
              "      <td>...</td>\n",
              "      <td>...</td>\n",
              "    </tr>\n",
              "    <tr>\n",
              "      <th>21656</th>\n",
              "      <td>541</td>\n",
              "      <td>North Shore University Hospital</td>\n",
              "      <td>SSI CABG chest site</td>\n",
              "      <td>2008</td>\n",
              "      <td>18.0</td>\n",
              "      <td>12.86</td>\n",
              "      <td>640.0</td>\n",
              "      <td>3.02</td>\n",
              "      <td>1.79</td>\n",
              "      <td>4.77</td>\n",
              "      <td># SSI per 100 procedures, risk-adjusted</td>\n",
              "      <td>Not significantly different than NYS 2008 average</td>\n",
              "      <td>(40.77924, -73.702888)</td>\n",
              "      <td>-73.702888</td>\n",
              "      <td>40.779240</td>\n",
              "    </tr>\n",
              "    <tr>\n",
              "      <th>21657</th>\n",
              "      <td>924</td>\n",
              "      <td>Southside Hospital</td>\n",
              "      <td>CLABSI Medical Surgical ICU</td>\n",
              "      <td>2009</td>\n",
              "      <td>3.0</td>\n",
              "      <td>5.50</td>\n",
              "      <td>2935.0</td>\n",
              "      <td>1.02</td>\n",
              "      <td>0.21</td>\n",
              "      <td>2.99</td>\n",
              "      <td># CLABSI per 1000 line days</td>\n",
              "      <td>Not significantly different than NYS 2009 average</td>\n",
              "      <td>(40.725014, -73.240372)</td>\n",
              "      <td>-73.240372</td>\n",
              "      <td>40.725014</td>\n",
              "    </tr>\n",
              "    <tr>\n",
              "      <th>21658</th>\n",
              "      <td>739</td>\n",
              "      <td>Aurelia Osborn Fox Memorial Hospital</td>\n",
              "      <td>SSI Hip</td>\n",
              "      <td>2008</td>\n",
              "      <td>0.0</td>\n",
              "      <td>0.21</td>\n",
              "      <td>25.0</td>\n",
              "      <td>0.00</td>\n",
              "      <td>0.00</td>\n",
              "      <td>15.63</td>\n",
              "      <td># SSI per 100 procedures, risk-adjusted</td>\n",
              "      <td>Not significantly different than NYS 2008 average</td>\n",
              "      <td>(42.457405, -75.053261)</td>\n",
              "      <td>-75.053261</td>\n",
              "      <td>42.457405</td>\n",
              "    </tr>\n",
              "    <tr>\n",
              "      <th>21659</th>\n",
              "      <td>1456</td>\n",
              "      <td>Mount Sinai Hospital</td>\n",
              "      <td>SSI CABG donor site</td>\n",
              "      <td>2008</td>\n",
              "      <td>7.0</td>\n",
              "      <td>5.02</td>\n",
              "      <td>457.0</td>\n",
              "      <td>1.38</td>\n",
              "      <td>0.56</td>\n",
              "      <td>2.85</td>\n",
              "      <td># SSI per 100 procedures, risk-adjusted</td>\n",
              "      <td>Not significantly different than NYS 2008 average</td>\n",
              "      <td>(40.790482, -73.953766)</td>\n",
              "      <td>-73.953766</td>\n",
              "      <td>40.790482</td>\n",
              "    </tr>\n",
              "    <tr>\n",
              "      <th>21660</th>\n",
              "      <td>671</td>\n",
              "      <td>Geneva General Hospital</td>\n",
              "      <td>SSI Colon</td>\n",
              "      <td>2008</td>\n",
              "      <td>1.0</td>\n",
              "      <td>2.18</td>\n",
              "      <td>47.0</td>\n",
              "      <td>2.03</td>\n",
              "      <td>0.05</td>\n",
              "      <td>11.34</td>\n",
              "      <td># SSI per 100 procedures, risk-adjusted</td>\n",
              "      <td>Not significantly different than NYS 2008 average</td>\n",
              "      <td>(42.875748, -76.987427)</td>\n",
              "      <td>-76.987427</td>\n",
              "      <td>42.875748</td>\n",
              "    </tr>\n",
              "  </tbody>\n",
              "</table>\n",
              "<p>11838 rows × 15 columns</p>\n",
              "</div>"
            ],
            "text/plain": [
              "       Facility_ID  ...   Latitude\n",
              "2              367  ...  43.964928\n",
              "6              889  ...  40.885757\n",
              "18             181  ...  41.694523\n",
              "21            1456  ...  40.790482\n",
              "37            1463  ...  40.742874\n",
              "...            ...  ...        ...\n",
              "21656          541  ...  40.779240\n",
              "21657          924  ...  40.725014\n",
              "21658          739  ...  42.457405\n",
              "21659         1456  ...  40.790482\n",
              "21660          671  ...  42.875748\n",
              "\n",
              "[11838 rows x 15 columns]"
            ]
          },
          "metadata": {},
          "execution_count": 56
        }
      ]
    },
    {
      "cell_type": "markdown",
      "metadata": {
        "id": "kU3dUqaFJCKt"
      },
      "source": [
        "Now, create columns for latitude and longitude"
      ]
    },
    {
      "cell_type": "code",
      "metadata": {
        "id": "jmc4YrK7NGcR"
      },
      "source": [
        "# TODO: Create columns for `Latitude` and `Longitude`\n",
        "hospital_df_cleaned[\"Longitude\"]=hospital_df_cleaned[\"New_Georeferenced_Column\"].str.split(\",\")\n",
        "hospital_df_cleaned[\"Latitude\"]=hospital_df_cleaned[\"Longitude\"].str[0].str[1:].astype(float)\n",
        "hospital_df_cleaned[\"Longitude\"]=hospital_df_cleaned[\"Longitude\"].str[1].str[:-1].astype(float)"
      ],
      "execution_count": null,
      "outputs": []
    },
    {
      "cell_type": "markdown",
      "metadata": {
        "id": "69fDZNUZw-wt"
      },
      "source": [
        "Finally, replace the entries in `Comparison_Results`"
      ]
    },
    {
      "cell_type": "code",
      "metadata": {
        "id": "4KIcerOEw9Q3"
      },
      "source": [
        "#TODO: Replace the text as mentioned above!\n",
        "hospital_df_cleaned[\"Comparison_Results\"]=hospital_df_cleaned[\"Comparison_Results\"].str.replace(\"Not significantly different than NYS 2018 average\",\"p-value greater than 0.05, NOT significantly different than NYS 2018 average\")"
      ],
      "execution_count": null,
      "outputs": []
    },
    {
      "cell_type": "markdown",
      "metadata": {
        "id": "V0IIytMhZWdi"
      },
      "source": [
        "Pass the dataframe `hospital_df_cleaned` into the grader cell below (8 points)\n"
      ]
    },
    {
      "cell_type": "code",
      "metadata": {
        "id": "1FAnrgbCbmEs",
        "colab": {
          "base_uri": "https://localhost:8080/"
        },
        "outputId": "ba968191-ca4e-4a2c-8ade-480eed01a214"
      },
      "source": [
        "# [CIS 545 PennGrader Cell] - 8 points\n",
        "grader.grade(test_case_id = 'hospital_df_clean_up', answer = hospital_df_cleaned)"
      ],
      "execution_count": null,
      "outputs": [
        {
          "output_type": "stream",
          "name": "stdout",
          "text": [
            "You earned 0/8 points.\n",
            "\n",
            "But, don't worry you can re-submit and we will keep only your latest score.\n"
          ]
        }
      ]
    },
    {
      "cell_type": "markdown",
      "metadata": {
        "id": "26xMn6jBKYIw"
      },
      "source": [
        "## Part 2: Grabbing more some more data: Generating Zipcodes\n",
        "\n",
        "We are really interested in comparing whether flu cases are at all related to hospital acquired infections. As such we would like to do a location based comparison. We have a few tasks in this part: \n",
        "\n",
        "#### **TODO: Part 2**\n",
        "1. Order the flu dataframe by Disease and then County (lexographically) and create a new dataframe called `flu_df_limited` that contains only the first 300 rows. Note that this is just to ensure you have only a subset of all of the data. (5 points)\n",
        "\n",
        "2. Order the hospital_df by `Facility_ID` (from least to greatest) and create a new dataframe called `hospital_df_limited` that contains only the first 300 rows. Note that this is just to ensure you have only a subset of all of the data. (5 points)\n",
        "\n",
        "\n",
        "You will use the `flu_df_cleaned` and `hospital_df_cleaned` to make these new smaller dataframes. \n",
        "\n",
        "Notice both the flu dataframe and the hospital dataframe don't have a zipcode column:\n",
        "- We want the zipcode for each row for each of the two dataframes\n",
        "- Add a new column to the dataframe with the associated zipcode for the given longitude/latitude point\n",
        "- This can be achieved through using the latitude and longitude. Google around for ways to convert latitude/longitude points into a zipcode in Python. We suggest a few options:\n",
        "\n",
        "https://geopy.readthedocs.io/en/stable/\n",
        "\n",
        "https://developer.mapquest.com/\n",
        "\n",
        "https://stackoverflow.com/questions/54320931/python-code-for-reverse-geo-coding-using-google-api\n",
        "\n",
        "This part can be a little challenging. Keep working at it and don't get discouraged -- TAs are also here to help (office hours & Piazza)!\n",
        "\n",
        "You'll find that we might have to iterate over the values, and there are a couple ways to do this:\n",
        "- `apply` functions that do operations in parallel (generally best-practice in pandas)\n",
        "- for-loops and other iterators...but if you run this on the entire dataset it will be slow, so we would recommend thinking a bit on how to make things efficient if you choose to go this route\n",
        "\n",
        "Make sure the added zipcode column name is named `flu_zipcode` for the `flu_limited_df` and  `hospital_zipcode` for the `hosptial_limited_df`. Note to keep the zipcode column type as strings. Name your two new dataframes `flu_limited_df` and  `hospital_limited_df` and submit them to their respective autograder cells below. "
      ]
    },
    {
      "cell_type": "code",
      "metadata": {
        "id": "TR9TJ0fzzPFf"
      },
      "source": [
        "# There are a few options to do this problem but we recommend using the geocoder package. Let's import it here. \n",
        "import geocoder\n",
        "\n",
        "# Take a look at the geocoder.mapquest function\n"
      ],
      "execution_count": null,
      "outputs": []
    },
    {
      "cell_type": "code",
      "metadata": {
        "id": "ud29F6COzuLo"
      },
      "source": [
        "# TODO: Create `flu_df_limited`\n",
        "\n",
        "flu_df_limited=flu_df_cleaned.head(300)"
      ],
      "execution_count": null,
      "outputs": []
    },
    {
      "cell_type": "code",
      "metadata": {
        "id": "Ljrysm4jhhlI"
      },
      "source": [
        "# TODO: Create `hospital_df_limited`\n",
        "\n",
        "hospital_df_limited=hospital_df_cleaned.sort_values(by=['Facility_ID'])\n",
        "hospital_df_limited=hospital_df_limited.head(300)"
      ],
      "execution_count": null,
      "outputs": []
    },
    {
      "cell_type": "code",
      "metadata": {
        "colab": {
          "base_uri": "https://localhost:8080/",
          "height": 808
        },
        "id": "doq2-He1QvID",
        "outputId": "7aeed0a9-1082-4ec5-b776-765f424802c6"
      },
      "source": [
        "#flu_df_limited\n",
        "hospital_df_limited"
      ],
      "execution_count": null,
      "outputs": [
        {
          "output_type": "execute_result",
          "data": {
            "text/html": [
              "<div>\n",
              "<style scoped>\n",
              "    .dataframe tbody tr th:only-of-type {\n",
              "        vertical-align: middle;\n",
              "    }\n",
              "\n",
              "    .dataframe tbody tr th {\n",
              "        vertical-align: top;\n",
              "    }\n",
              "\n",
              "    .dataframe thead th {\n",
              "        text-align: right;\n",
              "    }\n",
              "</style>\n",
              "<table border=\"1\" class=\"dataframe\">\n",
              "  <thead>\n",
              "    <tr style=\"text-align: right;\">\n",
              "      <th></th>\n",
              "      <th>Facility_ID</th>\n",
              "      <th>Hospital_Name</th>\n",
              "      <th>Indicator_Name</th>\n",
              "      <th>Year</th>\n",
              "      <th>Infections_Observed</th>\n",
              "      <th>Infections_Predicted</th>\n",
              "      <th>Denominator</th>\n",
              "      <th>Indicator_Value</th>\n",
              "      <th>Indicator_Lower_Confidence_Limit</th>\n",
              "      <th>Indicator_Upper_Confidence_Limit</th>\n",
              "      <th>Indicator_Units</th>\n",
              "      <th>Comparison_Results</th>\n",
              "      <th>New_Georeferenced_Column</th>\n",
              "      <th>Longitude</th>\n",
              "      <th>Latitude</th>\n",
              "    </tr>\n",
              "  </thead>\n",
              "  <tbody>\n",
              "    <tr>\n",
              "      <th>0</th>\n",
              "      <td>0</td>\n",
              "      <td>New York State - All Hospitals</td>\n",
              "      <td>CLABSI Medical ICU</td>\n",
              "      <td>2018</td>\n",
              "      <td>100.0</td>\n",
              "      <td>NaN</td>\n",
              "      <td>120323.0</td>\n",
              "      <td>0.83</td>\n",
              "      <td>NaN</td>\n",
              "      <td>NaN</td>\n",
              "      <td># CLABSI per 1000 line days</td>\n",
              "      <td>NaN</td>\n",
              "      <td>NaN</td>\n",
              "      <td>NaN</td>\n",
              "      <td>NaN</td>\n",
              "    </tr>\n",
              "    <tr>\n",
              "      <th>14731</th>\n",
              "      <td>0</td>\n",
              "      <td>New York State - All Hospitals</td>\n",
              "      <td>CLABSI Medical Surgical ICU</td>\n",
              "      <td>2015</td>\n",
              "      <td>130.0</td>\n",
              "      <td>NaN</td>\n",
              "      <td>134545.0</td>\n",
              "      <td>0.97</td>\n",
              "      <td>NaN</td>\n",
              "      <td>NaN</td>\n",
              "      <td># CLABSI per 1000 line days</td>\n",
              "      <td>NaN</td>\n",
              "      <td>NaN</td>\n",
              "      <td>NaN</td>\n",
              "      <td>NaN</td>\n",
              "    </tr>\n",
              "    <tr>\n",
              "      <th>20874</th>\n",
              "      <td>0</td>\n",
              "      <td>New York State - All Hospitals</td>\n",
              "      <td>CLABSI Medical ICU</td>\n",
              "      <td>2008</td>\n",
              "      <td>237.0</td>\n",
              "      <td>NaN</td>\n",
              "      <td>87785.0</td>\n",
              "      <td>2.70</td>\n",
              "      <td>NaN</td>\n",
              "      <td>NaN</td>\n",
              "      <td># CLABSI per 1000 line days</td>\n",
              "      <td>NaN</td>\n",
              "      <td>NaN</td>\n",
              "      <td>NaN</td>\n",
              "      <td>NaN</td>\n",
              "    </tr>\n",
              "    <tr>\n",
              "      <th>14687</th>\n",
              "      <td>0</td>\n",
              "      <td>New York State - All Hospitals</td>\n",
              "      <td>CLABSI Step Down Unit</td>\n",
              "      <td>2018</td>\n",
              "      <td>39.0</td>\n",
              "      <td>NaN</td>\n",
              "      <td>61860.0</td>\n",
              "      <td>0.63</td>\n",
              "      <td>NaN</td>\n",
              "      <td>NaN</td>\n",
              "      <td># CLABSI per 1000 line days</td>\n",
              "      <td>NaN</td>\n",
              "      <td>NaN</td>\n",
              "      <td>NaN</td>\n",
              "      <td>NaN</td>\n",
              "    </tr>\n",
              "    <tr>\n",
              "      <th>14579</th>\n",
              "      <td>0</td>\n",
              "      <td>New York State - All Hospitals</td>\n",
              "      <td>CDI Community Onset Not-My-Hospital</td>\n",
              "      <td>2014</td>\n",
              "      <td>7155.0</td>\n",
              "      <td>NaN</td>\n",
              "      <td>2166758.0</td>\n",
              "      <td>0.33</td>\n",
              "      <td>NaN</td>\n",
              "      <td>NaN</td>\n",
              "      <td># community onset not-my-hospital cases per 100 admissions, not risk-adjusted</td>\n",
              "      <td>NaN</td>\n",
              "      <td>NaN</td>\n",
              "      <td>NaN</td>\n",
              "      <td>NaN</td>\n",
              "    </tr>\n",
              "    <tr>\n",
              "      <th>...</th>\n",
              "      <td>...</td>\n",
              "      <td>...</td>\n",
              "      <td>...</td>\n",
              "      <td>...</td>\n",
              "      <td>...</td>\n",
              "      <td>...</td>\n",
              "      <td>...</td>\n",
              "      <td>...</td>\n",
              "      <td>...</td>\n",
              "      <td>...</td>\n",
              "      <td>...</td>\n",
              "      <td>...</td>\n",
              "      <td>...</td>\n",
              "      <td>...</td>\n",
              "      <td>...</td>\n",
              "    </tr>\n",
              "    <tr>\n",
              "      <th>1843</th>\n",
              "      <td>1</td>\n",
              "      <td>Albany Medical Center Hospital</td>\n",
              "      <td>CLABSI Medical ICU</td>\n",
              "      <td>2009</td>\n",
              "      <td>5.0</td>\n",
              "      <td>6.50</td>\n",
              "      <td>2821.0</td>\n",
              "      <td>1.77</td>\n",
              "      <td>0.58</td>\n",
              "      <td>4.14</td>\n",
              "      <td># CLABSI per 1000 line days</td>\n",
              "      <td>Not significantly different than NYS 2009 average</td>\n",
              "      <td>(42.65337, -73.773834)</td>\n",
              "      <td>-73.773834</td>\n",
              "      <td>42.65337</td>\n",
              "    </tr>\n",
              "    <tr>\n",
              "      <th>18583</th>\n",
              "      <td>1</td>\n",
              "      <td>Albany Medical Center Hospital</td>\n",
              "      <td>CLABSI Pediatric ICU</td>\n",
              "      <td>2010</td>\n",
              "      <td>5.0</td>\n",
              "      <td>4.39</td>\n",
              "      <td>2122.0</td>\n",
              "      <td>2.36</td>\n",
              "      <td>0.77</td>\n",
              "      <td>5.50</td>\n",
              "      <td># CLABSI per 1000 line days</td>\n",
              "      <td>Not significantly different than NYS 2010 average</td>\n",
              "      <td>(42.65337, -73.773834)</td>\n",
              "      <td>-73.773834</td>\n",
              "      <td>42.65337</td>\n",
              "    </tr>\n",
              "    <tr>\n",
              "      <th>1836</th>\n",
              "      <td>1</td>\n",
              "      <td>Albany Medical Center Hospital</td>\n",
              "      <td>CDI Community Onset Not-My-Hospital</td>\n",
              "      <td>2010</td>\n",
              "      <td>37.0</td>\n",
              "      <td>NaN</td>\n",
              "      <td>29917.0</td>\n",
              "      <td>0.12</td>\n",
              "      <td>NaN</td>\n",
              "      <td>NaN</td>\n",
              "      <td># community onset not-my-hospital cases per 100 admissions, not risk-adjusted</td>\n",
              "      <td>Not compared</td>\n",
              "      <td>(42.65337, -73.773834)</td>\n",
              "      <td>-73.773834</td>\n",
              "      <td>42.65337</td>\n",
              "    </tr>\n",
              "    <tr>\n",
              "      <th>17610</th>\n",
              "      <td>1</td>\n",
              "      <td>Albany Medical Center Hospital</td>\n",
              "      <td>SSI Hip</td>\n",
              "      <td>2009</td>\n",
              "      <td>1.0</td>\n",
              "      <td>3.19</td>\n",
              "      <td>270.0</td>\n",
              "      <td>0.36</td>\n",
              "      <td>0.01</td>\n",
              "      <td>1.99</td>\n",
              "      <td># SSI per 100 procedures, risk-adjusted</td>\n",
              "      <td>Not significantly different than NYS 2009 average</td>\n",
              "      <td>(42.65337, -73.773834)</td>\n",
              "      <td>-73.773834</td>\n",
              "      <td>42.65337</td>\n",
              "    </tr>\n",
              "    <tr>\n",
              "      <th>595</th>\n",
              "      <td>1</td>\n",
              "      <td>Albany Medical Center Hospital</td>\n",
              "      <td>CDI Hospital Onset</td>\n",
              "      <td>2014</td>\n",
              "      <td>190.0</td>\n",
              "      <td>138.13</td>\n",
              "      <td>127403.0</td>\n",
              "      <td>14.61</td>\n",
              "      <td>12.02</td>\n",
              "      <td>17.56</td>\n",
              "      <td># hospital onset cases per 10,000 patient days at risk, risk-adjusted</td>\n",
              "      <td>Significantly higher than NYS 2014 average</td>\n",
              "      <td>(42.65337, -73.773834)</td>\n",
              "      <td>-73.773834</td>\n",
              "      <td>42.65337</td>\n",
              "    </tr>\n",
              "  </tbody>\n",
              "</table>\n",
              "<p>300 rows × 15 columns</p>\n",
              "</div>"
            ],
            "text/plain": [
              "       Facility_ID                   Hospital_Name  ...  Longitude  Latitude\n",
              "0                0  New York State - All Hospitals  ...        NaN       NaN\n",
              "14731            0  New York State - All Hospitals  ...        NaN       NaN\n",
              "20874            0  New York State - All Hospitals  ...        NaN       NaN\n",
              "14687            0  New York State - All Hospitals  ...        NaN       NaN\n",
              "14579            0  New York State - All Hospitals  ...        NaN       NaN\n",
              "...            ...                             ...  ...        ...       ...\n",
              "1843             1  Albany Medical Center Hospital  ... -73.773834  42.65337\n",
              "18583            1  Albany Medical Center Hospital  ... -73.773834  42.65337\n",
              "1836             1  Albany Medical Center Hospital  ... -73.773834  42.65337\n",
              "17610            1  Albany Medical Center Hospital  ... -73.773834  42.65337\n",
              "595              1  Albany Medical Center Hospital  ... -73.773834  42.65337\n",
              "\n",
              "[300 rows x 15 columns]"
            ]
          },
          "metadata": {},
          "execution_count": 46
        }
      ]
    },
    {
      "cell_type": "code",
      "metadata": {
        "id": "XoQQn4M-z1K7",
        "colab": {
          "base_uri": "https://localhost:8080/",
          "height": 130
        },
        "outputId": "0830779d-c938-403b-b794-4a90ded33433"
      },
      "source": [
        "# TODO: Find and add flu zipcodes to `flu_df_limited` -- and do the same for `hospital_df_limited`\n",
        "hospital_df_limited=\n",
        "\n",
        "flu_df_limited="
      ],
      "execution_count": null,
      "outputs": [
        {
          "output_type": "error",
          "ename": "SyntaxError",
          "evalue": "ignored",
          "traceback": [
            "\u001b[0;36m  File \u001b[0;32m\"<ipython-input-47-a21ada3d7aa5>\"\u001b[0;36m, line \u001b[0;32m2\u001b[0m\n\u001b[0;31m    hospital_df_limited=\u001b[0m\n\u001b[0m                        ^\u001b[0m\n\u001b[0;31mSyntaxError\u001b[0m\u001b[0;31m:\u001b[0m invalid syntax\n"
          ]
        }
      ]
    },
    {
      "cell_type": "code",
      "metadata": {
        "id": "5HP9f6gXuKMz"
      },
      "source": [
        "# [CIS 545 PennGrader Cell] - 5 points\n",
        "grader.grade(test_case_id = 'hospital_df_limited', answer = hospital_df_limited)"
      ],
      "execution_count": null,
      "outputs": []
    },
    {
      "cell_type": "code",
      "metadata": {
        "id": "wL5FGztbuNHC"
      },
      "source": [
        "# [CIS 545 PennGrader Cell] - 5 points\n",
        "grader.grade(test_case_id = 'flu_df_clean_up', answer = flu_df_limited)"
      ],
      "execution_count": null,
      "outputs": []
    },
    {
      "cell_type": "markdown",
      "metadata": {
        "id": "mh4pp5Nd3Wx3"
      },
      "source": [
        "#Part 3: Combining the data\n",
        "\n",
        "When you become a full time data scientist, a lot of times, data will be spread out across multiple files/tables. The way to combine these tables is through join/merge operations. If you're familiar with SQL, this will be very familiar to you. If not, don't worry. I believe in you!\n",
        "\n",
        "To start, here's a nice diagram which shows you the different types of joins\n",
        "\n",
        "\n",
        "<p align = \"center\">\n",
        "<img src = \"https://i.stack.imgur.com/hMKKt.jpg\" width= \"600\" align =\"center\"/>\n",
        "</p>\n",
        "\n",
        "A clarifying point: The two venn diagrams with the \"(if Null)\" are also called Left Outer Join and Right Outer Join\n",
        "\n"
      ]
    },
    {
      "cell_type": "markdown",
      "metadata": {
        "id": "enwuLI3LjqYz"
      },
      "source": [
        "When working in data science, a large portion of the time we will want to perform an inner join (see the diagram above for some information on what an inner join is if you are not familiar). As such perform an inner join between the `hospital_df_limited` and the `flu_df_limited` on the Year columns (we would like matches between the Year column for `hospital_df_limited` and the Year column for `flu_df_limited`). \n",
        "\n",
        "**Note** This is a change made on 9/20 5PM EDT to correct the previous typos that did not include `_limited` in the df names. It is also in the FAQ.\n",
        "\n",
        "Name your answer `inner_joined_df`  (4 points)."
      ]
    },
    {
      "cell_type": "code",
      "metadata": {
        "id": "Ry5po0-SpXL7"
      },
      "source": [
        "#TODO: Perform an inner join between the hospital_df_limited and flu_df_limited on the Year column. \n",
        "inner_joined_df ="
      ],
      "execution_count": null,
      "outputs": []
    },
    {
      "cell_type": "code",
      "metadata": {
        "id": "khxpKbPUpZ6m"
      },
      "source": [
        "# [CIS 545 PennGrader Cell] - 4 points\n",
        "grader.grade(test_case_id = 'basic_join_test', answer = inner_joined_df)"
      ],
      "execution_count": null,
      "outputs": []
    },
    {
      "cell_type": "markdown",
      "metadata": {
        "id": "DitIiPoGXhUW"
      },
      "source": [
        "#### **TODO: Part 3.1**\n",
        "\n",
        "Let's now do a join that is a little bit more interesting / uncommon.\n",
        "\n",
        "- Find all the zipcodes that strictly appear in DO NOT appear in both datasets:\n",
        "\n",
        "    *  If 11111 is in flu data and hospital infection data, we don't want it\n",
        "    *  If 22222 is in flu data but not in hospital, we want to keep it\n",
        "    * If 33333 is in hospital infection data but not in flu, we want to keep it\n",
        "\n",
        "- In other words, we want all the zipcodes that have flu cases with no hospital infections (this is probably impossible in the real world, but our data is a small sample of the real world). **Note we are using the hospital_df_limited and flu_df_limited dataframes here** \n",
        "\n",
        "- *Hint*: Google around for Exclusive Full Joins\n",
        "\n",
        "- We want the final answer as a two column dataframe with columns named: `flu_zips`, `hospital_zips` (6 points)\n",
        "    * `flu_zips` should contain the zipcodes that only exist within the flu dataset and vice-a-versa for `hospital_zips` column\n",
        "    * If there is a row where hospital_zip has a zipcode, that same row should not have a `flu_zips` entry (Should be NaN) as otherwise, that means that zipcode is shared between both datasets\n",
        "    * Make sure your final answer dataframe is named: `combined_df`"
      ]
    },
    {
      "cell_type": "code",
      "metadata": {
        "id": "-0iVOifDuDoq"
      },
      "source": [
        "# TODO: Create combined_df\n",
        "\n",
        "combined_df="
      ],
      "execution_count": null,
      "outputs": []
    },
    {
      "cell_type": "markdown",
      "metadata": {
        "id": "1EAR34S0vXpB"
      },
      "source": [
        "Enter your newly created dataframe `combined_df` to the penngrader cell below:"
      ]
    },
    {
      "cell_type": "code",
      "metadata": {
        "id": "HsJjvsUgvh_U"
      },
      "source": [
        "# [CIS 545 PennGrader Cell] - 6 points\n",
        "grader.grade(test_case_id = 'full_ex_join_test', answer = combined_df)"
      ],
      "execution_count": null,
      "outputs": []
    },
    {
      "cell_type": "markdown",
      "metadata": {
        "id": "wXAslqnzDfpE"
      },
      "source": [
        "## Part 4: Working With Zillow and AirBnB data!\n",
        "\n",
        "Let's now look at some Zillow and AirBnB data! As a data scientist, you will often be asked to work with many different kinds of datasets (and through this course you will get hands on experience with data from many different fields!)\n"
      ]
    },
    {
      "cell_type": "markdown",
      "metadata": {
        "id": "Q3LIKZjEMmkQ"
      },
      "source": [
        "Read in the Zillow and AirBnB data to pandas dataframes and take a look at it so that you are familiar with the features (columns) in both datasets. "
      ]
    },
    {
      "cell_type": "code",
      "metadata": {
        "id": "6DOtWUs2Emep"
      },
      "source": [
        "# TODO: Take a look at the Zillow Df\n"
      ],
      "execution_count": null,
      "outputs": []
    },
    {
      "cell_type": "code",
      "metadata": {
        "id": "r6PPK9ovYiLK"
      },
      "source": [
        "#TODO: Take a look at the AirBnB Df\n"
      ],
      "execution_count": null,
      "outputs": []
    },
    {
      "cell_type": "markdown",
      "metadata": {
        "id": "LNAeU-oabPqx"
      },
      "source": [
        "##4.1 Correlation Matrix\n",
        "\n",
        "We want to see if, on average, there is any correlation between the gross square footage of apartments versus airbnb prices for shared zipcodes, and **if there is a correlation, how strong is it?**\n",
        "\n",
        "\n",
        "#### **TODO: 4.1**\n",
        "- Find the average value of each column for each zipcode within Zillow\n",
        "- Find the average value of each column for each zipcode within AirBnb\n",
        "- Merge them on the matching column:\n",
        "    * Your merged table may now have 1-3 nonsense columns\n",
        "    * Since the values have been averaged by zipcode, some of these columns no longer include valid information... think on it and visit office hours if you get stuck! \n",
        "    * Identify and drop these (can also be done before merging)\n",
        "\n",
        "- Generate the correlation matrix. Find the value associated with **Zillow Gross Square footage vs. Airbnb Price**. *Hint*: Read about Pandas \"corr()\" function.\n",
        "\n",
        "- Name your final answer correlation matrix dataframe to: `correlation_matrix` (5 points)\n",
        "\n",
        "- Plot a correlation matrix -- just to get a sense of what it might look like!\n",
        "\n",
        "\n",
        "**Note: You can correctly answer the following section just using Zillow's gross square footage column and Airbnb's price column but after this question, we want to plot a correlation matrix which will require all the columns(not just the two listed above)**"
      ]
    },
    {
      "cell_type": "code",
      "metadata": {
        "id": "NpMeTCw3IX52"
      },
      "source": [
        "# TODO: Create your correlation matrix\n",
        "\n",
        "correlation_matrix="
      ],
      "execution_count": null,
      "outputs": []
    },
    {
      "cell_type": "markdown",
      "metadata": {
        "id": "egr36TSzoi5s"
      },
      "source": [
        "Submit the correlation matrix to the autograder \n",
        "(5 points)"
      ]
    },
    {
      "cell_type": "code",
      "metadata": {
        "id": "LuTN6BKkIgw3"
      },
      "source": [
        "# [CIS 545 PennGrader Cell] - 5 points\n",
        "grader.grade(test_case_id = 'corr_mat', answer = correlation_matrix)"
      ],
      "execution_count": null,
      "outputs": []
    },
    {
      "cell_type": "markdown",
      "metadata": {
        "id": "gWRRlGRnetav"
      },
      "source": [
        "Here we provide code for you to visualize the correlation matrix. In the following code snippet below, please assign your correlation matrix to the variable named \"corr\" and then run the cell. You should see a correlation matrix!\n",
        "\n",
        "This isn't a graded cell; but you might find that knowing how to plot correlation matrices is helpful in general EDA and maybe later on in the class! :)"
      ]
    },
    {
      "cell_type": "code",
      "metadata": {
        "id": "xI15Ztk9IlSY"
      },
      "source": [
        "sns.set(style = \"white\")\n",
        "\n",
        "# Generate a large random dataset\n",
        "rs = np.random.RandomState(33)\n",
        "d = pd.DataFrame(data=rs.normal(size=(100, 26)),\n",
        "                 columns=list(ascii_letters[26:]))\n",
        "\n",
        "# Compute the correlation matrix\n",
        "# ASSIGN THE \"corr\" VARIABLE TO YOUR CORRELATION MATRIX\n",
        "corr = correlation_matrix\n",
        "\n",
        "# Generate a mask for the upper triangle\n",
        "mask = np.zeros_like(corr, dtype=np.bool)\n",
        "mask[np.triu_indices_from(mask)] = True\n",
        "\n",
        "# Set up the matplotlib figure\n",
        "f, ax = plt.subplots(figsize=(11, 9))\n",
        "\n",
        "# Generate a custom diverging colormap\n",
        "cmap = sns.diverging_palette(220, 10, as_cmap=True)\n",
        "\n",
        "# Draw the heatmap with the mask and correct aspect ratio\n",
        "sns.heatmap(corr, mask=mask, cmap=cmap, vmax=.3, center=0,\n",
        "            square=True, linewidths=.5, cbar_kws={\"shrink\": .5})\n",
        "plt.title(\"Correlation Heatmap: Airbnb & Zillow Data\")\n",
        "plt.show()"
      ],
      "execution_count": null,
      "outputs": []
    },
    {
      "cell_type": "markdown",
      "metadata": {
        "id": "FaomiQJhvhwI"
      },
      "source": [
        "##4.2 Joining columns on roughly similar data\n",
        "\n",
        "**This problem is pretty difficult conceptually. We're putting it in the assignment because we know you all can do this!**\n",
        "\n",
        "There will be times when you have similar (but not exact) data between columns that you would like to join on. Convential joins, like the one you did above, will scan through each of the specified join columns, and find **exact** matches to establish that the rows from the associated datasets can be combined together into one row. \n",
        "\n",
        "- But what happens if the join operation sees \"Mr.Smith\" in one dataset versus \"Mr Smith\"? It will skip over and think these two entries can't be joined even though there is a minor difference and the two values should be matched. This is where we combine what we call \"n-grams\" using a technique called Jaccard similarity.\n",
        "\n",
        "- Let's break this down: An n-gram is a contiguous sequence of n items. An example would be given the sentence: \"CIS 545 is a great class\" ... If we were looking at an n-gram of two, the results would be: [\"CIS 545\", \"545 is\", \"is a\", \"a great\", \"great class\"]\n",
        "\n",
        "- The above example is tokenizing/breaking up the n-grams by spaces. However, we can also do it characterwise. Given \"CIS 545 is a great class\" with n-gram of 2 and doing characterwise splits, we will have: [\"CI\", \"IS\", \"S5\", \"54\", \"45\", \"5i\", ... ]\n",
        "\n",
        "\n",
        "Jaccard similarity is a way to measure similarity between two sets. There's plenty of other documentation online for it, but a mathematical notation example is below:\n",
        "\n",
        "<p align = \"center\">\n",
        "<img src = \"https://i.ytimg.com/vi/Ah_4xqvS1WU/maxresdefault.jpg\" width= \"600\" align =\"center\"/>\n",
        "</p>\n",
        "\n"
      ]
    },
    {
      "cell_type": "markdown",
      "metadata": {
        "id": "1e8owGlf8jwE"
      },
      "source": [
        "We will focus on the `NEIGHBORHOOD` column in zillow_df and the `neighbourhood` in `airbnb_df`. If you take a look, these two columns share the same type of information but are formatted differently (i.e. `UPPER WEST SIDE (59-79)` in `zillow_df` versus `Upper West Side` in airbnb_df. \n",
        "\n",
        "We know these columns mean very similar things...but merge/join operations don't. A possibility is to clean that column so that the formats match. But what if you have a ton of entries and you can't possibly account for everything?\n",
        "\n",
        "Our goal here is to join the neighbourhood columns without having to perform extensive cleaning operations in one of the columns.\n",
        "\n",
        "#### **TODO: 4.2**\n",
        "- Take your `zillow_df` `NEIGHBORHOOD` column and lowercase all the entries except the first entry (aka capitalize). We do this to make the neighborhood columns between the two datasets as similar as possible and reducing cleaning necessary\n",
        "- Define a Tokenizer with 5 grams. We have already imported our recommended library to do this at the top. Try looking at this for how to define a tokenzier: http://anhaidgroup.github.io/py_stringmatching/v0.2.x/QgramTokenizer.html\n",
        "- Do a jaccard join:\n",
        "    * Again, we have already imported our recommended library for doing this at the top\n",
        "    * Look here for more documentation: http://anhaidgroup.github.io/py_stringsimjoin/v0.1.x/api/jaccard_join.html \n",
        "    * When calling this function, set the `l_out_attrs` and `r_out_attrs` parameters to their associated table's neighbourhood column so that we keep those columns as we want to see our join results\n",
        "\n",
        "- When selecting the tolerance, play around with some values between $$.1 < x < .5$$ to see what the join thinks could be \"joinable\"\n",
        "\n",
        "- Drop duplicates from your jaccard-joined dataframe based on both neighbourhood columns as you will have a lot of duplicates. In other words, you might have 100+ entries of [`MURRAY HILL`, `MURRAY HILL`]. We only want one entry for this.\n",
        "\n",
        "- Name your answer to this section: `answer_df` (14 points) -- this is a large test case since it's a super involved question. Good luck!"
      ]
    },
    {
      "cell_type": "code",
      "metadata": {
        "id": "sj2kY4s0Ino2"
      },
      "source": [
        "# TODO: Preprocess `zillow_df` and create a tokenizer with 5 grams\n"
      ],
      "execution_count": null,
      "outputs": []
    },
    {
      "cell_type": "code",
      "metadata": {
        "id": "m7aS42Bm6Moh"
      },
      "source": [
        "# TODO: Create your jaccard join and drop duplicates. Name your answer dataframe answer_df. \n",
        "\n",
        "answer_df="
      ],
      "execution_count": null,
      "outputs": []
    },
    {
      "cell_type": "markdown",
      "metadata": {
        "id": "-whqsZ7YCYD7"
      },
      "source": [
        "Find a row entry in this dataframe where the Airbnb and Zillow neighborhoods aren't the same but are similar (i.e `Clinton` vs `Clinton Hill` or `Mill basin` vs `Mill Basin`. Assign (You can manually type it out) the associated name to the following variables based on the dataset they originally belonged to.\n",
        "\n",
        "When you submit your answer to the autograder, make it a tuple of `(result dataframe from the join, airbnb_neighborhood, zillow_neighborhood)`. (14 points)\n",
        "\n",
        "It should be possible to earn partial credit for this! But it definitely is a harder problem; good luck!"
      ]
    },
    {
      "cell_type": "code",
      "metadata": {
        "id": "AcczJhHiJA6V"
      },
      "source": [
        "# Add the Airbnb and Zillow neighborhood examples\n",
        "airbnb_neighborhood = \n",
        "zillow_neighborhood = \n",
        "\n",
        "answer = (answer_df, airbnb_neighborhood, zillow_neighborhood)"
      ],
      "execution_count": null,
      "outputs": []
    },
    {
      "cell_type": "code",
      "metadata": {
        "id": "QHluXrnbJDLi"
      },
      "source": [
        "# [CIS 545 PennGrader Cell] - 14 points\n",
        "grader.grade(test_case_id = 'jaccard_join', answer = answer)"
      ],
      "execution_count": null,
      "outputs": []
    },
    {
      "cell_type": "markdown",
      "metadata": {
        "id": "ZRNdFcIYfl9s"
      },
      "source": [
        "#Part 5 XPath\n",
        "###Brought to you by popular demand from students...\n",
        "\n",
        "So far, we've looked at data from Airbnb and Zillow. It turns out Airbnb was a unicorn startup! According to Wikipedia, a unicorn is a \"privately held startup company with a current valuation of US$1 billion or more.\"\n",
        "\n",
        "Let's look into unicorn startup companies some more. Take a look at this wikpedia page that has a full list of unicorn startup companies. https://en.wikipedia.org/wiki/List_of_unicorn_startup_companies. <br>\n",
        "Note that Uber is on the former unicorns list since it IPO'd, and Airbnb's delayed IPO means it still is as well.\n",
        "\n",
        "#### **TODO: Part 5**\n",
        "\n",
        "- Using this data, return a dataframe that has the top 40 unicorn companies by Valuation. Your dataframe should be \n",
        "    1. In descending order by Valuation. \n",
        "    2. Have exactly two columns, `Company` and `Valuation`\n",
        "\n",
        "  *Hint*: The first row should be something like: \n",
        "\n",
        ">Company | Valuation\n",
        ">--- | ---\n",
        ">Uber | 72.0\n",
        "\n",
        "- There are many different ways to do this but we recommend trying it with XPath. That's also how we will recommend in office hours! \n",
        "\n",
        "- Assign the answer of this section to a dataframe named: `answer_df` and submit it in a tuple with the `path` for xpath (9 points)"
      ]
    },
    {
      "cell_type": "code",
      "metadata": {
        "id": "T6gN4eDB8A8L"
      },
      "source": [
        "# TODO: Request the data and build the DOM tree (we've done this for you!)\n",
        "w = requests.get(\"https://en.wikipedia.org/wiki/List_of_unicorn_startup_companies\")\n",
        "dom_tree = html.fromstring(w.content)\n",
        "print(dom_tree)"
      ],
      "execution_count": null,
      "outputs": []
    },
    {
      "cell_type": "code",
      "metadata": {
        "id": "p_D1sjZpJLqR"
      },
      "source": [
        "# TODO: Create `answer_df` and set your final xpath \"path\"\n",
        "# `path` should be the value you pass in for dom_tree.xpath()\n",
        "\n",
        "path=\n",
        "answer_df="
      ],
      "execution_count": null,
      "outputs": []
    },
    {
      "cell_type": "code",
      "metadata": {
        "id": "4dq743mv8cc2"
      },
      "source": [
        "# Check the path prints!\n",
        "# It should be in the form of '/.../text()' (may vary slightly; only include the actual parameter used in dom_tree.xpath!)\n",
        "print(path)"
      ],
      "execution_count": null,
      "outputs": []
    },
    {
      "cell_type": "code",
      "metadata": {
        "id": "AdMYAIlXJXw7"
      },
      "source": [
        "# [CIS 545 PennGrader Cell] - 9 points\n",
        "grader.grade(test_case_id = 'xPath_test', answer = (answer_df, path))"
      ],
      "execution_count": null,
      "outputs": []
    },
    {
      "cell_type": "markdown",
      "metadata": {
        "id": "UjD6jZO5ieAG"
      },
      "source": [
        "You're done! Time to wrap things up and submit HW1."
      ]
    },
    {
      "cell_type": "markdown",
      "metadata": {
        "id": "ydELAEzkzpE_"
      },
      "source": [
        "# HW Submission\n",
        "\n",
        "The good news is you basically know the score you already got because of the autograder. In fact, since for the first time the autograder is integrated into Gradescope, you should be able to see your autograder score automatically! There is one question we're manually grading (and we'll check for plagirism), but for the most part things are relatively certain.\n",
        "\n",
        "Before you submit on Gradescope (you must submit your notebook to receive credit):\n",
        "\n",
        "\n",
        "1.   Restart and Run-All to make sure there's nothing wrong with your notebook\n",
        "2.   **Double check that you have the correct PennID (all numbers) in the autograder**. \n",
        "3. Make sure you've run all the PennGrader cells\n",
        "4. Go to the \"File\" tab at the top left, and click \"Download .ipynb\" and then \"Download .py\".  **Rename** the files to \"homework1.ipynb\" and \"homework1.py\" respectively and upload them to Gradescope directly!\n",
        "\n",
        "**Let the course staff know ASAP if you have any issues submitting, but otherwise best of luck! Congrats on finishing the first HW.**"
      ]
    }
  ]
}